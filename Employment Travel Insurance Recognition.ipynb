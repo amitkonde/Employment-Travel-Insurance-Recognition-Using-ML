{
 "cells": [
  {
   "cell_type": "markdown",
   "id": "1daf8153",
   "metadata": {
    "id": "1daf8153"
   },
   "source": [
    "# Employment Recognition Problem"
   ]
  },
  {
   "cell_type": "markdown",
   "id": "f26bdd0e",
   "metadata": {
    "id": "f26bdd0e"
   },
   "source": [
    "Working on Employment Type dataset where the aim to predict the TravelInsurance of employees based on different factors that rely on their conditions; it could either be 1 or 0.\n",
    "\n",
    "**Proposed algorithms for this dataset:-** \n",
    "1. K-nearest neighbors, \n",
    "2. Random Forest Classifier \n",
    "3. Decision Tree Classifier."
   ]
  },
  {
   "cell_type": "markdown",
   "id": "c579c7af",
   "metadata": {
    "id": "c579c7af"
   },
   "source": [
    "#### Importing required libraries"
   ]
  },
  {
   "cell_type": "code",
   "execution_count": 1,
   "id": "YRKo-xAWNM0N",
   "metadata": {
    "colab": {
     "base_uri": "https://localhost:8080/"
    },
    "executionInfo": {
     "elapsed": 3826,
     "status": "ok",
     "timestamp": 1660041078330,
     "user": {
      "displayName": "Anmol Varshney",
      "userId": "09973869633986508713"
     },
     "user_tz": -330
    },
    "id": "YRKo-xAWNM0N",
    "outputId": "0558993a-fde1-4327-9237-e1524c29a570"
   },
   "outputs": [
    {
     "ename": "ModuleNotFoundError",
     "evalue": "No module named 'google.colab'",
     "output_type": "error",
     "traceback": [
      "\u001b[1;31m---------------------------------------------------------------------------\u001b[0m",
      "\u001b[1;31mModuleNotFoundError\u001b[0m                       Traceback (most recent call last)",
      "\u001b[1;32m~\\AppData\\Local\\Temp/ipykernel_10704/1408506528.py\u001b[0m in \u001b[0;36m<module>\u001b[1;34m\u001b[0m\n\u001b[1;32m----> 1\u001b[1;33m \u001b[1;32mfrom\u001b[0m \u001b[0mgoogle\u001b[0m\u001b[1;33m.\u001b[0m\u001b[0mcolab\u001b[0m \u001b[1;32mimport\u001b[0m \u001b[0mdrive\u001b[0m\u001b[1;33m\u001b[0m\u001b[1;33m\u001b[0m\u001b[0m\n\u001b[0m\u001b[0;32m      2\u001b[0m \u001b[0mdrive\u001b[0m\u001b[1;33m.\u001b[0m\u001b[0mmount\u001b[0m\u001b[1;33m(\u001b[0m\u001b[1;34m'/content/drive'\u001b[0m\u001b[1;33m)\u001b[0m\u001b[1;33m\u001b[0m\u001b[1;33m\u001b[0m\u001b[0m\n",
      "\u001b[1;31mModuleNotFoundError\u001b[0m: No module named 'google.colab'"
     ]
    }
   ],
   "source": [
    "from google.colab import drive\n",
    "drive.mount('/content/drive')"
   ]
  },
  {
   "cell_type": "code",
   "execution_count": 2,
   "id": "255144a8",
   "metadata": {
    "executionInfo": {
     "elapsed": 3280,
     "status": "ok",
     "timestamp": 1660041081598,
     "user": {
      "displayName": "Anmol Varshney",
      "userId": "09973869633986508713"
     },
     "user_tz": -330
    },
    "id": "255144a8"
   },
   "outputs": [],
   "source": [
    "import numpy as np\n",
    "import pandas as pd\n",
    "from sklearn.decomposition import PCA\n",
    "from sklearn.model_selection import train_test_split\n",
    "from sklearn.preprocessing import StandardScaler\n",
    "from sklearn.preprocessing import LabelEncoder\n",
    "from sklearn.tree import DecisionTreeClassifier\n",
    "from sklearn.neighbors import KNeighborsClassifier\n",
    "from sklearn.ensemble import RandomForestClassifier\n",
    "from sklearn.metrics import plot_confusion_matrix\n",
    "from sklearn.metrics import classification_report, confusion_matrix, accuracy_score, f1_score, log_loss, roc_curve\n",
    "import matplotlib.pyplot as plt \n",
    "import tensorflow.keras as keras\n",
    "import seaborn as sns\n",
    "from sklearn.model_selection import GridSearchCV\n",
    "import warnings\n",
    "warnings.filterwarnings('ignore')"
   ]
  },
  {
   "cell_type": "markdown",
   "id": "3707b998",
   "metadata": {
    "id": "3707b998"
   },
   "source": [
    "### Loading DataSet"
   ]
  },
  {
   "cell_type": "code",
   "execution_count": 3,
   "id": "xYg_bDv9NH4y",
   "metadata": {
    "executionInfo": {
     "elapsed": 142,
     "status": "ok",
     "timestamp": 1660041081607,
     "user": {
      "displayName": "Anmol Varshney",
      "userId": "09973869633986508713"
     },
     "user_tz": -330
    },
    "id": "xYg_bDv9NH4y"
   },
   "outputs": [],
   "source": [
    "#provide path of dataset here\n",
    "path = '/content/drive/MyDrive/ML_PROJECT/TIP.csv'"
   ]
  },
  {
   "cell_type": "code",
   "execution_count": 5,
   "id": "53159471",
   "metadata": {},
   "outputs": [
    {
     "name": "stdout",
     "output_type": "stream",
     "text": [
      " Volume in drive E is New Volume\n",
      " Volume Serial Number is 90C4-2A5E\n",
      "\n",
      " Directory of E:\\6.Project's\\Freelancer\n",
      "\n",
      "10-08-2022  18:24    <DIR>          .\n",
      "10-08-2022  18:24    <DIR>          ..\n",
      "05-08-2022  23:17    <DIR>          .ipynb_checkpoints\n",
      "10-08-2022  18:24           598,012 Basic ML - Project Final.ipynb\n",
      "10-08-2022  17:51            23,590 E_Insurance.docx\n",
      "05-08-2022  22:36           504,686 Fetal health.ipynb\n",
      "05-08-2022  22:30            45,485 Fetal-Health-Classification-main.zip\n",
      "07-08-2022  08:28            23,358 Implicit-data-based-recommendation-system-master.zip\n",
      "06-08-2022  00:41           477,228 Letter Recognition.ipynb\n",
      "05-08-2022  22:30           204,955 Letter-Recognition-main.zip\n",
      "08-08-2022  10:41    <DIR>          Project's\n",
      "09-08-2022  22:05    <DIR>          Report's\n",
      "23-11-2021  22:36    <DIR>          YouTube Material\n",
      "               7 File(s)      1,877,314 bytes\n",
      "               6 Dir(s)  345,847,881,728 bytes free\n"
     ]
    }
   ],
   "source": [
    "ls"
   ]
  },
  {
   "cell_type": "code",
   "execution_count": 4,
   "id": "bbe9311f",
   "metadata": {
    "colab": {
     "base_uri": "https://localhost:8080/",
     "height": 444
    },
    "executionInfo": {
     "elapsed": 141,
     "status": "ok",
     "timestamp": 1660041081611,
     "user": {
      "displayName": "Anmol Varshney",
      "userId": "09973869633986508713"
     },
     "user_tz": -330
    },
    "id": "bbe9311f",
    "outputId": "43edcaf9-9569-496b-969c-d737558e23e9"
   },
   "outputs": [
    {
     "ename": "FileNotFoundError",
     "evalue": "[Errno 2] No such file or directory: 'TIP.csv'",
     "output_type": "error",
     "traceback": [
      "\u001b[1;31m---------------------------------------------------------------------------\u001b[0m",
      "\u001b[1;31mFileNotFoundError\u001b[0m                         Traceback (most recent call last)",
      "\u001b[1;32m~\\AppData\\Local\\Temp/ipykernel_10704/588635707.py\u001b[0m in \u001b[0;36m<module>\u001b[1;34m\u001b[0m\n\u001b[1;32m----> 1\u001b[1;33m \u001b[0mtip_df\u001b[0m \u001b[1;33m=\u001b[0m \u001b[0mpd\u001b[0m\u001b[1;33m.\u001b[0m\u001b[0mread_csv\u001b[0m\u001b[1;33m(\u001b[0m\u001b[1;34m\"TIP.csv\"\u001b[0m\u001b[1;33m)\u001b[0m\u001b[1;33m\u001b[0m\u001b[1;33m\u001b[0m\u001b[0m\n\u001b[0m\u001b[0;32m      2\u001b[0m \u001b[0mtip_df\u001b[0m\u001b[1;33m.\u001b[0m\u001b[0mhead\u001b[0m\u001b[1;33m(\u001b[0m\u001b[1;33m)\u001b[0m\u001b[1;33m\u001b[0m\u001b[1;33m\u001b[0m\u001b[0m\n",
      "\u001b[1;32mC:\\Anaconda\\lib\\site-packages\\pandas\\util\\_decorators.py\u001b[0m in \u001b[0;36mwrapper\u001b[1;34m(*args, **kwargs)\u001b[0m\n\u001b[0;32m    309\u001b[0m                     \u001b[0mstacklevel\u001b[0m\u001b[1;33m=\u001b[0m\u001b[0mstacklevel\u001b[0m\u001b[1;33m,\u001b[0m\u001b[1;33m\u001b[0m\u001b[1;33m\u001b[0m\u001b[0m\n\u001b[0;32m    310\u001b[0m                 )\n\u001b[1;32m--> 311\u001b[1;33m             \u001b[1;32mreturn\u001b[0m \u001b[0mfunc\u001b[0m\u001b[1;33m(\u001b[0m\u001b[1;33m*\u001b[0m\u001b[0margs\u001b[0m\u001b[1;33m,\u001b[0m \u001b[1;33m**\u001b[0m\u001b[0mkwargs\u001b[0m\u001b[1;33m)\u001b[0m\u001b[1;33m\u001b[0m\u001b[1;33m\u001b[0m\u001b[0m\n\u001b[0m\u001b[0;32m    312\u001b[0m \u001b[1;33m\u001b[0m\u001b[0m\n\u001b[0;32m    313\u001b[0m         \u001b[1;32mreturn\u001b[0m \u001b[0mwrapper\u001b[0m\u001b[1;33m\u001b[0m\u001b[1;33m\u001b[0m\u001b[0m\n",
      "\u001b[1;32mC:\\Anaconda\\lib\\site-packages\\pandas\\io\\parsers\\readers.py\u001b[0m in \u001b[0;36mread_csv\u001b[1;34m(filepath_or_buffer, sep, delimiter, header, names, index_col, usecols, squeeze, prefix, mangle_dupe_cols, dtype, engine, converters, true_values, false_values, skipinitialspace, skiprows, skipfooter, nrows, na_values, keep_default_na, na_filter, verbose, skip_blank_lines, parse_dates, infer_datetime_format, keep_date_col, date_parser, dayfirst, cache_dates, iterator, chunksize, compression, thousands, decimal, lineterminator, quotechar, quoting, doublequote, escapechar, comment, encoding, encoding_errors, dialect, error_bad_lines, warn_bad_lines, on_bad_lines, delim_whitespace, low_memory, memory_map, float_precision, storage_options)\u001b[0m\n\u001b[0;32m    584\u001b[0m     \u001b[0mkwds\u001b[0m\u001b[1;33m.\u001b[0m\u001b[0mupdate\u001b[0m\u001b[1;33m(\u001b[0m\u001b[0mkwds_defaults\u001b[0m\u001b[1;33m)\u001b[0m\u001b[1;33m\u001b[0m\u001b[1;33m\u001b[0m\u001b[0m\n\u001b[0;32m    585\u001b[0m \u001b[1;33m\u001b[0m\u001b[0m\n\u001b[1;32m--> 586\u001b[1;33m     \u001b[1;32mreturn\u001b[0m \u001b[0m_read\u001b[0m\u001b[1;33m(\u001b[0m\u001b[0mfilepath_or_buffer\u001b[0m\u001b[1;33m,\u001b[0m \u001b[0mkwds\u001b[0m\u001b[1;33m)\u001b[0m\u001b[1;33m\u001b[0m\u001b[1;33m\u001b[0m\u001b[0m\n\u001b[0m\u001b[0;32m    587\u001b[0m \u001b[1;33m\u001b[0m\u001b[0m\n\u001b[0;32m    588\u001b[0m \u001b[1;33m\u001b[0m\u001b[0m\n",
      "\u001b[1;32mC:\\Anaconda\\lib\\site-packages\\pandas\\io\\parsers\\readers.py\u001b[0m in \u001b[0;36m_read\u001b[1;34m(filepath_or_buffer, kwds)\u001b[0m\n\u001b[0;32m    480\u001b[0m \u001b[1;33m\u001b[0m\u001b[0m\n\u001b[0;32m    481\u001b[0m     \u001b[1;31m# Create the parser.\u001b[0m\u001b[1;33m\u001b[0m\u001b[1;33m\u001b[0m\u001b[0m\n\u001b[1;32m--> 482\u001b[1;33m     \u001b[0mparser\u001b[0m \u001b[1;33m=\u001b[0m \u001b[0mTextFileReader\u001b[0m\u001b[1;33m(\u001b[0m\u001b[0mfilepath_or_buffer\u001b[0m\u001b[1;33m,\u001b[0m \u001b[1;33m**\u001b[0m\u001b[0mkwds\u001b[0m\u001b[1;33m)\u001b[0m\u001b[1;33m\u001b[0m\u001b[1;33m\u001b[0m\u001b[0m\n\u001b[0m\u001b[0;32m    483\u001b[0m \u001b[1;33m\u001b[0m\u001b[0m\n\u001b[0;32m    484\u001b[0m     \u001b[1;32mif\u001b[0m \u001b[0mchunksize\u001b[0m \u001b[1;32mor\u001b[0m \u001b[0miterator\u001b[0m\u001b[1;33m:\u001b[0m\u001b[1;33m\u001b[0m\u001b[1;33m\u001b[0m\u001b[0m\n",
      "\u001b[1;32mC:\\Anaconda\\lib\\site-packages\\pandas\\io\\parsers\\readers.py\u001b[0m in \u001b[0;36m__init__\u001b[1;34m(self, f, engine, **kwds)\u001b[0m\n\u001b[0;32m    809\u001b[0m             \u001b[0mself\u001b[0m\u001b[1;33m.\u001b[0m\u001b[0moptions\u001b[0m\u001b[1;33m[\u001b[0m\u001b[1;34m\"has_index_names\"\u001b[0m\u001b[1;33m]\u001b[0m \u001b[1;33m=\u001b[0m \u001b[0mkwds\u001b[0m\u001b[1;33m[\u001b[0m\u001b[1;34m\"has_index_names\"\u001b[0m\u001b[1;33m]\u001b[0m\u001b[1;33m\u001b[0m\u001b[1;33m\u001b[0m\u001b[0m\n\u001b[0;32m    810\u001b[0m \u001b[1;33m\u001b[0m\u001b[0m\n\u001b[1;32m--> 811\u001b[1;33m         \u001b[0mself\u001b[0m\u001b[1;33m.\u001b[0m\u001b[0m_engine\u001b[0m \u001b[1;33m=\u001b[0m \u001b[0mself\u001b[0m\u001b[1;33m.\u001b[0m\u001b[0m_make_engine\u001b[0m\u001b[1;33m(\u001b[0m\u001b[0mself\u001b[0m\u001b[1;33m.\u001b[0m\u001b[0mengine\u001b[0m\u001b[1;33m)\u001b[0m\u001b[1;33m\u001b[0m\u001b[1;33m\u001b[0m\u001b[0m\n\u001b[0m\u001b[0;32m    812\u001b[0m \u001b[1;33m\u001b[0m\u001b[0m\n\u001b[0;32m    813\u001b[0m     \u001b[1;32mdef\u001b[0m \u001b[0mclose\u001b[0m\u001b[1;33m(\u001b[0m\u001b[0mself\u001b[0m\u001b[1;33m)\u001b[0m\u001b[1;33m:\u001b[0m\u001b[1;33m\u001b[0m\u001b[1;33m\u001b[0m\u001b[0m\n",
      "\u001b[1;32mC:\\Anaconda\\lib\\site-packages\\pandas\\io\\parsers\\readers.py\u001b[0m in \u001b[0;36m_make_engine\u001b[1;34m(self, engine)\u001b[0m\n\u001b[0;32m   1038\u001b[0m             )\n\u001b[0;32m   1039\u001b[0m         \u001b[1;31m# error: Too many arguments for \"ParserBase\"\u001b[0m\u001b[1;33m\u001b[0m\u001b[1;33m\u001b[0m\u001b[0m\n\u001b[1;32m-> 1040\u001b[1;33m         \u001b[1;32mreturn\u001b[0m \u001b[0mmapping\u001b[0m\u001b[1;33m[\u001b[0m\u001b[0mengine\u001b[0m\u001b[1;33m]\u001b[0m\u001b[1;33m(\u001b[0m\u001b[0mself\u001b[0m\u001b[1;33m.\u001b[0m\u001b[0mf\u001b[0m\u001b[1;33m,\u001b[0m \u001b[1;33m**\u001b[0m\u001b[0mself\u001b[0m\u001b[1;33m.\u001b[0m\u001b[0moptions\u001b[0m\u001b[1;33m)\u001b[0m  \u001b[1;31m# type: ignore[call-arg]\u001b[0m\u001b[1;33m\u001b[0m\u001b[1;33m\u001b[0m\u001b[0m\n\u001b[0m\u001b[0;32m   1041\u001b[0m \u001b[1;33m\u001b[0m\u001b[0m\n\u001b[0;32m   1042\u001b[0m     \u001b[1;32mdef\u001b[0m \u001b[0m_failover_to_python\u001b[0m\u001b[1;33m(\u001b[0m\u001b[0mself\u001b[0m\u001b[1;33m)\u001b[0m\u001b[1;33m:\u001b[0m\u001b[1;33m\u001b[0m\u001b[1;33m\u001b[0m\u001b[0m\n",
      "\u001b[1;32mC:\\Anaconda\\lib\\site-packages\\pandas\\io\\parsers\\c_parser_wrapper.py\u001b[0m in \u001b[0;36m__init__\u001b[1;34m(self, src, **kwds)\u001b[0m\n\u001b[0;32m     49\u001b[0m \u001b[1;33m\u001b[0m\u001b[0m\n\u001b[0;32m     50\u001b[0m         \u001b[1;31m# open handles\u001b[0m\u001b[1;33m\u001b[0m\u001b[1;33m\u001b[0m\u001b[0m\n\u001b[1;32m---> 51\u001b[1;33m         \u001b[0mself\u001b[0m\u001b[1;33m.\u001b[0m\u001b[0m_open_handles\u001b[0m\u001b[1;33m(\u001b[0m\u001b[0msrc\u001b[0m\u001b[1;33m,\u001b[0m \u001b[0mkwds\u001b[0m\u001b[1;33m)\u001b[0m\u001b[1;33m\u001b[0m\u001b[1;33m\u001b[0m\u001b[0m\n\u001b[0m\u001b[0;32m     52\u001b[0m         \u001b[1;32massert\u001b[0m \u001b[0mself\u001b[0m\u001b[1;33m.\u001b[0m\u001b[0mhandles\u001b[0m \u001b[1;32mis\u001b[0m \u001b[1;32mnot\u001b[0m \u001b[1;32mNone\u001b[0m\u001b[1;33m\u001b[0m\u001b[1;33m\u001b[0m\u001b[0m\n\u001b[0;32m     53\u001b[0m \u001b[1;33m\u001b[0m\u001b[0m\n",
      "\u001b[1;32mC:\\Anaconda\\lib\\site-packages\\pandas\\io\\parsers\\base_parser.py\u001b[0m in \u001b[0;36m_open_handles\u001b[1;34m(self, src, kwds)\u001b[0m\n\u001b[0;32m    220\u001b[0m         \u001b[0mLet\u001b[0m \u001b[0mthe\u001b[0m \u001b[0mreaders\u001b[0m \u001b[0mopen\u001b[0m \u001b[0mIOHandles\u001b[0m \u001b[0mafter\u001b[0m \u001b[0mthey\u001b[0m \u001b[0mare\u001b[0m \u001b[0mdone\u001b[0m \u001b[1;32mwith\u001b[0m \u001b[0mtheir\u001b[0m \u001b[0mpotential\u001b[0m \u001b[0mraises\u001b[0m\u001b[1;33m.\u001b[0m\u001b[1;33m\u001b[0m\u001b[1;33m\u001b[0m\u001b[0m\n\u001b[0;32m    221\u001b[0m         \"\"\"\n\u001b[1;32m--> 222\u001b[1;33m         self.handles = get_handle(\n\u001b[0m\u001b[0;32m    223\u001b[0m             \u001b[0msrc\u001b[0m\u001b[1;33m,\u001b[0m\u001b[1;33m\u001b[0m\u001b[1;33m\u001b[0m\u001b[0m\n\u001b[0;32m    224\u001b[0m             \u001b[1;34m\"r\"\u001b[0m\u001b[1;33m,\u001b[0m\u001b[1;33m\u001b[0m\u001b[1;33m\u001b[0m\u001b[0m\n",
      "\u001b[1;32mC:\\Anaconda\\lib\\site-packages\\pandas\\io\\common.py\u001b[0m in \u001b[0;36mget_handle\u001b[1;34m(path_or_buf, mode, encoding, compression, memory_map, is_text, errors, storage_options)\u001b[0m\n\u001b[0;32m    700\u001b[0m         \u001b[1;32mif\u001b[0m \u001b[0mioargs\u001b[0m\u001b[1;33m.\u001b[0m\u001b[0mencoding\u001b[0m \u001b[1;32mand\u001b[0m \u001b[1;34m\"b\"\u001b[0m \u001b[1;32mnot\u001b[0m \u001b[1;32min\u001b[0m \u001b[0mioargs\u001b[0m\u001b[1;33m.\u001b[0m\u001b[0mmode\u001b[0m\u001b[1;33m:\u001b[0m\u001b[1;33m\u001b[0m\u001b[1;33m\u001b[0m\u001b[0m\n\u001b[0;32m    701\u001b[0m             \u001b[1;31m# Encoding\u001b[0m\u001b[1;33m\u001b[0m\u001b[1;33m\u001b[0m\u001b[0m\n\u001b[1;32m--> 702\u001b[1;33m             handle = open(\n\u001b[0m\u001b[0;32m    703\u001b[0m                 \u001b[0mhandle\u001b[0m\u001b[1;33m,\u001b[0m\u001b[1;33m\u001b[0m\u001b[1;33m\u001b[0m\u001b[0m\n\u001b[0;32m    704\u001b[0m                 \u001b[0mioargs\u001b[0m\u001b[1;33m.\u001b[0m\u001b[0mmode\u001b[0m\u001b[1;33m,\u001b[0m\u001b[1;33m\u001b[0m\u001b[1;33m\u001b[0m\u001b[0m\n",
      "\u001b[1;31mFileNotFoundError\u001b[0m: [Errno 2] No such file or directory: 'TIP.csv'"
     ]
    }
   ],
   "source": [
    "tip_df = pd.read_csv(\"TIP.csv\")\n",
    "tip_df.head()"
   ]
  },
  {
   "cell_type": "markdown",
   "id": "2c6f1d8b",
   "metadata": {
    "id": "2c6f1d8b"
   },
   "source": [
    "### Understaning Data\n",
    "Let's have some basic information about the Employment type dataset."
   ]
  },
  {
   "cell_type": "markdown",
   "id": "6d2ece9e",
   "metadata": {
    "id": "6d2ece9e"
   },
   "source": [
    "#### Exploratory Data Analysis (EDA)"
   ]
  },
  {
   "cell_type": "code",
   "execution_count": 5,
   "id": "60d8cc3e",
   "metadata": {
    "colab": {
     "base_uri": "https://localhost:8080/"
    },
    "executionInfo": {
     "elapsed": 135,
     "status": "ok",
     "timestamp": 1660041081615,
     "user": {
      "displayName": "Anmol Varshney",
      "userId": "09973869633986508713"
     },
     "user_tz": -330
    },
    "id": "60d8cc3e",
    "outputId": "d0ba7f46-5a1a-443f-8cd0-34321f9e6c1d"
   },
   "outputs": [
    {
     "name": "stdout",
     "output_type": "stream",
     "text": [
      "<class 'pandas.core.frame.DataFrame'>\n",
      "RangeIndex: 1987 entries, 0 to 1986\n",
      "Data columns (total 10 columns):\n",
      " #   Column               Non-Null Count  Dtype \n",
      "---  ------               --------------  ----- \n",
      " 0   Unnamed: 0           1987 non-null   int64 \n",
      " 1   Age                  1987 non-null   int64 \n",
      " 2   Employment Type      1987 non-null   object\n",
      " 3   GraduateOrNot        1987 non-null   object\n",
      " 4   AnnualIncome         1987 non-null   int64 \n",
      " 5   FamilyMembers        1987 non-null   int64 \n",
      " 6   ChronicDiseases      1987 non-null   int64 \n",
      " 7   FrequentFlyer        1987 non-null   object\n",
      " 8   EverTravelledAbroad  1987 non-null   object\n",
      " 9   TravelInsurance      1987 non-null   int64 \n",
      "dtypes: int64(6), object(4)\n",
      "memory usage: 155.4+ KB\n"
     ]
    }
   ],
   "source": [
    "tip_df.info()"
   ]
  },
  {
   "cell_type": "markdown",
   "id": "w95oaWtNOV8V",
   "metadata": {
    "id": "w95oaWtNOV8V"
   },
   "source": [
    "Above cell represents the attribute information resides in the dataset to analyze the null presence and dtype of each attribute."
   ]
  },
  {
   "cell_type": "code",
   "execution_count": 6,
   "id": "64058d91",
   "metadata": {
    "colab": {
     "base_uri": "https://localhost:8080/"
    },
    "executionInfo": {
     "elapsed": 95,
     "status": "ok",
     "timestamp": 1660041081618,
     "user": {
      "displayName": "Anmol Varshney",
      "userId": "09973869633986508713"
     },
     "user_tz": -330
    },
    "id": "64058d91",
    "outputId": "04bd6585-4ec0-4c84-ac50-96582acef3dd"
   },
   "outputs": [
    {
     "data": {
      "text/plain": [
       "Unnamed: 0             False\n",
       "Age                    False\n",
       "Employment Type        False\n",
       "GraduateOrNot          False\n",
       "AnnualIncome           False\n",
       "FamilyMembers          False\n",
       "ChronicDiseases        False\n",
       "FrequentFlyer          False\n",
       "EverTravelledAbroad    False\n",
       "TravelInsurance        False\n",
       "dtype: bool"
      ]
     },
     "execution_count": 6,
     "metadata": {},
     "output_type": "execute_result"
    }
   ],
   "source": [
    "#another way for checking if there resides any null value in the dataset\n",
    "tip_df.any().isnull()"
   ]
  },
  {
   "cell_type": "markdown",
   "id": "d4qb8zNQOu5f",
   "metadata": {
    "id": "d4qb8zNQOu5f"
   },
   "source": [
    "False value represents no presence of null vlaue in a column. Therefore, it can be stated that the data is null-free."
   ]
  },
  {
   "cell_type": "code",
   "execution_count": 7,
   "id": "12f9e596",
   "metadata": {
    "colab": {
     "base_uri": "https://localhost:8080/",
     "height": 380
    },
    "executionInfo": {
     "elapsed": 842,
     "status": "ok",
     "timestamp": 1660041082387,
     "user": {
      "displayName": "Anmol Varshney",
      "userId": "09973869633986508713"
     },
     "user_tz": -330
    },
    "id": "12f9e596",
    "outputId": "14f6e771-3225-4a20-8869-5b59fcb7ce84"
   },
   "outputs": [
    {
     "data": {
      "text/plain": [
       "<matplotlib.axes._subplots.AxesSubplot at 0x7ffb76805150>"
      ]
     },
     "execution_count": 7,
     "metadata": {},
     "output_type": "execute_result"
    },
    {
     "data": {
      "image/png": "[encoded data removed]",
      "text/plain": [
       "<Figure size 432x288 with 2 Axes>"
      ]
     },
     "metadata": {
      "needs_background": "light"
     },
     "output_type": "display_data"
    }
   ],
   "source": [
    "#nan value through visual plot\n",
    "sns.heatmap(tip_df.isna())"
   ]
  },
  {
   "cell_type": "markdown",
   "id": "b00e5071",
   "metadata": {
    "id": "b00e5071"
   },
   "source": [
    "##### Checking the number of unique values."
   ]
  },
  {
   "cell_type": "code",
   "execution_count": 8,
   "id": "2b088d22",
   "metadata": {
    "colab": {
     "base_uri": "https://localhost:8080/"
    },
    "executionInfo": {
     "elapsed": 30,
     "status": "ok",
     "timestamp": 1660041082389,
     "user": {
      "displayName": "Anmol Varshney",
      "userId": "09973869633986508713"
     },
     "user_tz": -330
    },
    "id": "2b088d22",
    "outputId": "b464952b-17ca-40fb-c43a-4534b170b06b"
   },
   "outputs": [
    {
     "name": "stdout",
     "output_type": "stream",
     "text": [
      "Unique values for Employment Type\n",
      "['Government Sector' 'Private Sector/Self Employed']\n",
      "Unique values for GraduateOrNot\n",
      "['Yes' 'No']\n",
      "Unique values for FrequentFlyer\n",
      "['No' 'Yes']\n",
      "Unique values for EverTravelledAbroad\n",
      "['No' 'Yes']\n"
     ]
    }
   ],
   "source": [
    "def show_objects(df):\n",
    "    cols = df.select_dtypes(include=['object']).columns\n",
    "    for col in cols:\n",
    "        print(\"Unique values for {}\".format(col))\n",
    "        print(df.loc[:, col].unique())\n",
    "    \n",
    "show_objects(tip_df)"
   ]
  },
  {
   "cell_type": "markdown",
   "id": "-gaV8Ij0PBTo",
   "metadata": {
    "id": "-gaV8Ij0PBTo"
   },
   "source": [
    "Unique values from each column has been exracted and shown above. The columns with dtype Object carry two unique values.\n"
   ]
  },
  {
   "cell_type": "markdown",
   "id": "00d936e2",
   "metadata": {
    "id": "00d936e2"
   },
   "source": [
    "##### Now, let's have some statical info about the dataset we are working upon# "
   ]
  },
  {
   "cell_type": "code",
   "execution_count": 9,
   "id": "1a64ea87",
   "metadata": {
    "colab": {
     "base_uri": "https://localhost:8080/",
     "height": 300
    },
    "executionInfo": {
     "elapsed": 863,
     "status": "ok",
     "timestamp": 1660041083232,
     "user": {
      "displayName": "Anmol Varshney",
      "userId": "09973869633986508713"
     },
     "user_tz": -330
    },
    "id": "1a64ea87",
    "outputId": "b9b3de63-583e-4693-e92a-157ecfce8d0f"
   },
   "outputs": [
    {
     "data": {
      "text/html": [
       "\n",
       "  <div id=\"df-bae4c405-152a-481f-b9f5-676939201581\">\n",
       "    <div class=\"colab-df-container\">\n",
       "      <div>\n",
       "<style scoped>\n",
       "    .dataframe tbody tr th:only-of-type {\n",
       "        vertical-align: middle;\n",
       "    }\n",
       "\n",
       "    .dataframe tbody tr th {\n",
       "        vertical-align: top;\n",
       "    }\n",
       "\n",
       "    .dataframe thead th {\n",
       "        text-align: right;\n",
       "    }\n",
       "</style>\n",
       "<table border=\"1\" class=\"dataframe\">\n",
       "  <thead>\n",
       "    <tr style=\"text-align: right;\">\n",
       "      <th></th>\n",
       "      <th>Unnamed: 0</th>\n",
       "      <th>Age</th>\n",
       "      <th>AnnualIncome</th>\n",
       "      <th>FamilyMembers</th>\n",
       "      <th>ChronicDiseases</th>\n",
       "      <th>TravelInsurance</th>\n",
       "    </tr>\n",
       "  </thead>\n",
       "  <tbody>\n",
       "    <tr>\n",
       "      <th>count</th>\n",
       "      <td>1987.000000</td>\n",
       "      <td>1987.000000</td>\n",
       "      <td>1.987000e+03</td>\n",
       "      <td>1987.000000</td>\n",
       "      <td>1987.000000</td>\n",
       "      <td>1987.000000</td>\n",
       "    </tr>\n",
       "    <tr>\n",
       "      <th>mean</th>\n",
       "      <td>993.000000</td>\n",
       "      <td>29.650226</td>\n",
       "      <td>9.327630e+05</td>\n",
       "      <td>4.752894</td>\n",
       "      <td>0.277806</td>\n",
       "      <td>0.357323</td>\n",
       "    </tr>\n",
       "    <tr>\n",
       "      <th>std</th>\n",
       "      <td>573.741812</td>\n",
       "      <td>2.913308</td>\n",
       "      <td>3.768557e+05</td>\n",
       "      <td>1.609650</td>\n",
       "      <td>0.448030</td>\n",
       "      <td>0.479332</td>\n",
       "    </tr>\n",
       "    <tr>\n",
       "      <th>min</th>\n",
       "      <td>0.000000</td>\n",
       "      <td>25.000000</td>\n",
       "      <td>3.000000e+05</td>\n",
       "      <td>2.000000</td>\n",
       "      <td>0.000000</td>\n",
       "      <td>0.000000</td>\n",
       "    </tr>\n",
       "    <tr>\n",
       "      <th>25%</th>\n",
       "      <td>496.500000</td>\n",
       "      <td>28.000000</td>\n",
       "      <td>6.000000e+05</td>\n",
       "      <td>4.000000</td>\n",
       "      <td>0.000000</td>\n",
       "      <td>0.000000</td>\n",
       "    </tr>\n",
       "    <tr>\n",
       "      <th>50%</th>\n",
       "      <td>993.000000</td>\n",
       "      <td>29.000000</td>\n",
       "      <td>9.000000e+05</td>\n",
       "      <td>5.000000</td>\n",
       "      <td>0.000000</td>\n",
       "      <td>0.000000</td>\n",
       "    </tr>\n",
       "    <tr>\n",
       "      <th>75%</th>\n",
       "      <td>1489.500000</td>\n",
       "      <td>32.000000</td>\n",
       "      <td>1.250000e+06</td>\n",
       "      <td>6.000000</td>\n",
       "      <td>1.000000</td>\n",
       "      <td>1.000000</td>\n",
       "    </tr>\n",
       "    <tr>\n",
       "      <th>max</th>\n",
       "      <td>1986.000000</td>\n",
       "      <td>35.000000</td>\n",
       "      <td>1.800000e+06</td>\n",
       "      <td>9.000000</td>\n",
       "      <td>1.000000</td>\n",
       "      <td>1.000000</td>\n",
       "    </tr>\n",
       "  </tbody>\n",
       "</table>\n",
       "</div>\n",
       "      <button class=\"colab-df-convert\" onclick=\"convertToInteractive('df-bae4c405-152a-481f-b9f5-676939201581')\"\n",
       "              title=\"Convert this dataframe to an interactive table.\"\n",
       "              style=\"display:none;\">\n",
       "        \n",
       "  <svg xmlns=\"http://www.w3.org/2000/svg\" height=\"24px\"viewBox=\"0 0 24 24\"\n",
       "       width=\"24px\">\n",
       "    <path d=\"M0 0h24v24H0V0z\" fill=\"none\"/>\n",
       "    <path d=\"M18.56 5.44l.94 2.06.94-2.06 2.06-.94-2.06-.94-.94-2.06-.94 2.06-2.06.94zm-11 1L8.5 8.5l.94-2.06 2.06-.94-2.06-.94L8.5 2.5l-.94 2.06-2.06.94zm10 10l.94 2.06.94-2.06 2.06-.94-2.06-.94-.94-2.06-.94 2.06-2.06.94z\"/><path d=\"M17.41 7.96l-1.37-1.37c-.4-.4-.92-.59-1.43-.59-.52 0-1.04.2-1.43.59L10.3 9.45l-7.72 7.72c-.78.78-.78 2.05 0 2.83L4 21.41c.39.39.9.59 1.41.59.51 0 1.02-.2 1.41-.59l7.78-7.78 2.81-2.81c.8-.78.8-2.07 0-2.86zM5.41 20L4 18.59l7.72-7.72 1.47 1.35L5.41 20z\"/>\n",
       "  </svg>\n",
       "      </button>\n",
       "      \n",
       "  <style>\n",
       "    .colab-df-container {\n",
       "      display:flex;\n",
       "      flex-wrap:wrap;\n",
       "      gap: 12px;\n",
       "    }\n",
       "\n",
       "    .colab-df-convert {\n",
       "      background-color: #E8F0FE;\n",
       "      border: none;\n",
       "      border-radius: 50%;\n",
       "      cursor: pointer;\n",
       "      display: none;\n",
       "      fill: #1967D2;\n",
       "      height: 32px;\n",
       "      padding: 0 0 0 0;\n",
       "      width: 32px;\n",
       "    }\n",
       "\n",
       "    .colab-df-convert:hover {\n",
       "      background-color: #E2EBFA;\n",
       "      box-shadow: 0px 1px 2px rgba(60, 64, 67, 0.3), 0px 1px 3px 1px rgba(60, 64, 67, 0.15);\n",
       "      fill: #174EA6;\n",
       "    }\n",
       "\n",
       "    [theme=dark] .colab-df-convert {\n",
       "      background-color: #3B4455;\n",
       "      fill: #D2E3FC;\n",
       "    }\n",
       "\n",
       "    [theme=dark] .colab-df-convert:hover {\n",
       "      background-color: #434B5C;\n",
       "      box-shadow: 0px 1px 3px 1px rgba(0, 0, 0, 0.15);\n",
       "      filter: drop-shadow(0px 1px 2px rgba(0, 0, 0, 0.3));\n",
       "      fill: #FFFFFF;\n",
       "    }\n",
       "  </style>\n",
       "\n",
       "      <script>\n",
       "        const buttonEl =\n",
       "          document.querySelector('#df-bae4c405-152a-481f-b9f5-676939201581 button.colab-df-convert');\n",
       "        buttonEl.style.display =\n",
       "          google.colab.kernel.accessAllowed ? 'block' : 'none';\n",
       "\n",
       "        async function convertToInteractive(key) {\n",
       "          const element = document.querySelector('#df-bae4c405-152a-481f-b9f5-676939201581');\n",
       "          const dataTable =\n",
       "            await google.colab.kernel.invokeFunction('convertToInteractive',\n",
       "                                                     [key], {});\n",
       "          if (!dataTable) return;\n",
       "\n",
       "          const docLinkHtml = 'Like what you see? Visit the ' +\n",
       "            '<a target=\"_blank\" href=https://colab.research.google.com/notebooks/data_table.ipynb>data table notebook</a>'\n",
       "            + ' to learn more about interactive tables.';\n",
       "          element.innerHTML = '';\n",
       "          dataTable['output_type'] = 'display_data';\n",
       "          await google.colab.output.renderOutput(dataTable, element);\n",
       "          const docLink = document.createElement('div');\n",
       "          docLink.innerHTML = docLinkHtml;\n",
       "          element.appendChild(docLink);\n",
       "        }\n",
       "      </script>\n",
       "    </div>\n",
       "  </div>\n",
       "  "
      ],
      "text/plain": [
       "        Unnamed: 0          Age  AnnualIncome  FamilyMembers  ChronicDiseases  \\\n",
       "count  1987.000000  1987.000000  1.987000e+03    1987.000000      1987.000000   \n",
       "mean    993.000000    29.650226  9.327630e+05       4.752894         0.277806   \n",
       "std     573.741812     2.913308  3.768557e+05       1.609650         0.448030   \n",
       "min       0.000000    25.000000  3.000000e+05       2.000000         0.000000   \n",
       "25%     496.500000    28.000000  6.000000e+05       4.000000         0.000000   \n",
       "50%     993.000000    29.000000  9.000000e+05       5.000000         0.000000   \n",
       "75%    1489.500000    32.000000  1.250000e+06       6.000000         1.000000   \n",
       "max    1986.000000    35.000000  1.800000e+06       9.000000         1.000000   \n",
       "\n",
       "       TravelInsurance  \n",
       "count      1987.000000  \n",
       "mean          0.357323  \n",
       "std           0.479332  \n",
       "min           0.000000  \n",
       "25%           0.000000  \n",
       "50%           0.000000  \n",
       "75%           1.000000  \n",
       "max           1.000000  "
      ]
     },
     "execution_count": 9,
     "metadata": {},
     "output_type": "execute_result"
    }
   ],
   "source": [
    "tip_df.describe()"
   ]
  },
  {
   "cell_type": "markdown",
   "id": "93185b83",
   "metadata": {
    "id": "93185b83"
   },
   "source": [
    "A brief description about Employment Recognition dataset shown above describes the equal value count of each column i.e., 1987. Therefore, the dataset doesn't have any na values.\n",
    "\n",
    "Let's explore some features of dataset to have some predictive knowledge. "
   ]
  },
  {
   "cell_type": "code",
   "execution_count": 10,
   "id": "0lHo-ZWZJlev",
   "metadata": {
    "colab": {
     "base_uri": "https://localhost:8080/",
     "height": 279
    },
    "executionInfo": {
     "elapsed": 134,
     "status": "ok",
     "timestamp": 1660041083234,
     "user": {
      "displayName": "Anmol Varshney",
      "userId": "09973869633986508713"
     },
     "user_tz": -330
    },
    "id": "0lHo-ZWZJlev",
    "outputId": "20e5545c-6e45-49d1-db2c-d40f94a9e847"
   },
   "outputs": [
    {
     "data": {
      "image/png": "[encoded data removed]",
      "text/plain": [
       "<Figure size 432x288 with 1 Axes>"
      ]
     },
     "metadata": {
      "needs_background": "light"
     },
     "output_type": "display_data"
    }
   ],
   "source": [
    "fig, ax = plt.subplots(figsize=(6,4))\n",
    "sns.countplot(hue='FrequentFlyer',x='TravelInsurance',data=tip_df)\n",
    "plt.show()"
   ]
  },
  {
   "cell_type": "code",
   "execution_count": 11,
   "id": "f2bdaec3",
   "metadata": {
    "colab": {
     "base_uri": "https://localhost:8080/",
     "height": 296
    },
    "executionInfo": {
     "elapsed": 56,
     "status": "ok",
     "timestamp": 1660041083236,
     "user": {
      "displayName": "Anmol Varshney",
      "userId": "09973869633986508713"
     },
     "user_tz": -330
    },
    "id": "f2bdaec3",
    "outputId": "cbf3f544-c8fa-4f15-cf8d-ab08e62f1446"
   },
   "outputs": [
    {
     "data": {
      "text/plain": [
       "<matplotlib.axes._subplots.AxesSubplot at 0x7ffb00bfe050>"
      ]
     },
     "execution_count": 11,
     "metadata": {},
     "output_type": "execute_result"
    },
    {
     "data": {
      "image/png": "[encoded data removed]",
      "text/plain": [
       "<Figure size 432x288 with 1 Axes>"
      ]
     },
     "metadata": {
      "needs_background": "light"
     },
     "output_type": "display_data"
    }
   ],
   "source": [
    "sns.countplot(tip_df['Employment Type'])"
   ]
  },
  {
   "cell_type": "markdown",
   "id": "ImaZT8evQJQL",
   "metadata": {
    "id": "ImaZT8evQJQL"
   },
   "source": [
    "The employees belonging to private or self employeed sector are much more in number as compared to government sector emplyees."
   ]
  },
  {
   "cell_type": "code",
   "execution_count": 12,
   "id": "wHSSZx80JXo4",
   "metadata": {
    "colab": {
     "base_uri": "https://localhost:8080/",
     "height": 535
    },
    "executionInfo": {
     "elapsed": 1337,
     "status": "ok",
     "timestamp": 1660041084540,
     "user": {
      "displayName": "Anmol Varshney",
      "userId": "09973869633986508713"
     },
     "user_tz": -330
    },
    "id": "wHSSZx80JXo4",
    "outputId": "b8efb0f5-2260-4064-b095-b9cfa5de6da6"
   },
   "outputs": [
    {
     "data": {
      "image/png": "[encoded data removed]",
      "text/plain": [
       "<Figure size 432x432 with 1 Axes>"
      ]
     },
     "metadata": {
      "needs_background": "light"
     },
     "output_type": "display_data"
    }
   ],
   "source": [
    "fig, ax = plt.subplots(figsize=(6,6))\n",
    "sns.countplot(hue='AnnualIncome',x='TravelInsurance',data=tip_df)\n",
    "plt.show()"
   ]
  },
  {
   "cell_type": "code",
   "execution_count": 13,
   "id": "53ce5367",
   "metadata": {
    "colab": {
     "base_uri": "https://localhost:8080/",
     "height": 296
    },
    "executionInfo": {
     "elapsed": 70,
     "status": "ok",
     "timestamp": 1660041084543,
     "user": {
      "displayName": "Anmol Varshney",
      "userId": "09973869633986508713"
     },
     "user_tz": -330
    },
    "id": "53ce5367",
    "outputId": "65fa7d38-c8fe-4302-b4dc-53aa7112631d"
   },
   "outputs": [
    {
     "data": {
      "text/plain": [
       "<matplotlib.axes._subplots.AxesSubplot at 0x7ffb009feb90>"
      ]
     },
     "execution_count": 13,
     "metadata": {},
     "output_type": "execute_result"
    },
    {
     "data": {
      "image/png": "[encoded data removed]",
      "text/plain": [
       "<Figure size 432x288 with 1 Axes>"
      ]
     },
     "metadata": {
      "needs_background": "light"
     },
     "output_type": "display_data"
    }
   ],
   "source": [
    "sns.countplot(tip_df['GraduateOrNot'])"
   ]
  },
  {
   "cell_type": "markdown",
   "id": "SGK0Sv2aQVGj",
   "metadata": {
    "id": "SGK0Sv2aQVGj"
   },
   "source": [
    "There seen a more number of employees that are already graduated."
   ]
  },
  {
   "cell_type": "code",
   "execution_count": 14,
   "id": "da99ab92",
   "metadata": {
    "colab": {
     "base_uri": "https://localhost:8080/",
     "height": 296
    },
    "executionInfo": {
     "elapsed": 47,
     "status": "ok",
     "timestamp": 1660041084545,
     "user": {
      "displayName": "Anmol Varshney",
      "userId": "09973869633986508713"
     },
     "user_tz": -330
    },
    "id": "da99ab92",
    "outputId": "3b26a420-2bbf-4c91-998c-3d948101f8bd"
   },
   "outputs": [
    {
     "data": {
      "text/plain": [
       "<matplotlib.axes._subplots.AxesSubplot at 0x7ffb009ddc50>"
      ]
     },
     "execution_count": 14,
     "metadata": {},
     "output_type": "execute_result"
    },
    {
     "data": {
      "image/png": "[encoded data removed]",
      "text/plain": [
       "<Figure size 432x288 with 1 Axes>"
      ]
     },
     "metadata": {
      "needs_background": "light"
     },
     "output_type": "display_data"
    }
   ],
   "source": [
    "sns.countplot(tip_df['FrequentFlyer'])"
   ]
  },
  {
   "cell_type": "code",
   "execution_count": 15,
   "id": "c1a8e6df",
   "metadata": {
    "colab": {
     "base_uri": "https://localhost:8080/",
     "height": 296
    },
    "executionInfo": {
     "elapsed": 666,
     "status": "ok",
     "timestamp": 1660041085180,
     "user": {
      "displayName": "Anmol Varshney",
      "userId": "09973869633986508713"
     },
     "user_tz": -330
    },
    "id": "c1a8e6df",
    "outputId": "795ece54-0522-4bc2-a147-1b53e891c717"
   },
   "outputs": [
    {
     "data": {
      "text/plain": [
       "<matplotlib.axes._subplots.AxesSubplot at 0x7ffb00944e50>"
      ]
     },
     "execution_count": 15,
     "metadata": {},
     "output_type": "execute_result"
    },
    {
     "data": {
      "image/png": "[encoded data removed]",
      "text/plain": [
       "<Figure size 432x288 with 1 Axes>"
      ]
     },
     "metadata": {
      "needs_background": "light"
     },
     "output_type": "display_data"
    }
   ],
   "source": [
    "sns.countplot(tip_df['EverTravelledAbroad'])"
   ]
  },
  {
   "cell_type": "markdown",
   "id": "sn8gzACcQfua",
   "metadata": {
    "id": "sn8gzACcQfua"
   },
   "source": [
    "The least number of employees have been found travelled Abroad during their life. More number of employeed are found un-travelled Abroad ever."
   ]
  },
  {
   "cell_type": "code",
   "execution_count": 16,
   "id": "75a78588",
   "metadata": {
    "executionInfo": {
     "elapsed": 26,
     "status": "ok",
     "timestamp": 1660041085182,
     "user": {
      "displayName": "Anmol Varshney",
      "userId": "09973869633986508713"
     },
     "user_tz": -330
    },
    "id": "75a78588"
   },
   "outputs": [],
   "source": [
    "#function to encode object type attributes.\n",
    "def encoder(row):\n",
    "    obj_cols = tip_df.select_dtypes(include=['object']).columns\n",
    "    if row.dtypes == \"object\":\n",
    "        return LabelEncoder().fit_transform(row)\n",
    "    return row"
   ]
  },
  {
   "cell_type": "code",
   "execution_count": 17,
   "id": "867dc918",
   "metadata": {
    "colab": {
     "base_uri": "https://localhost:8080/",
     "height": 688
    },
    "executionInfo": {
     "elapsed": 3510,
     "status": "ok",
     "timestamp": 1660041088675,
     "user": {
      "displayName": "Anmol Varshney",
      "userId": "09973869633986508713"
     },
     "user_tz": -330
    },
    "id": "867dc918",
    "outputId": "fbe1cd75-e21e-42ac-aaac-b459bb210551"
   },
   "outputs": [
    {
     "data": {
      "image/png": "[encoded data removed]",
      "text/plain": [
       "<Figure size 720x720 with 2 Axes>"
      ]
     },
     "metadata": {
      "needs_background": "light"
     },
     "output_type": "display_data"
    }
   ],
   "source": [
    "#feature correlation matrix using Pearson heatmap\n",
    "corr = tip_df.apply(encoder).corr()\n",
    "g = sns.heatmap(corr,annot=True)\n",
    "g.figure.set_size_inches(10,10)"
   ]
  },
  {
   "cell_type": "code",
   "execution_count": 18,
   "id": "543d3914",
   "metadata": {
    "colab": {
     "base_uri": "https://localhost:8080/",
     "height": 287
    },
    "executionInfo": {
     "elapsed": 29,
     "status": "ok",
     "timestamp": 1660041088676,
     "user": {
      "displayName": "Anmol Varshney",
      "userId": "09973869633986508713"
     },
     "user_tz": -330
    },
    "id": "543d3914",
    "outputId": "6d11476d-70a8-402a-cdb4-cea580c81103"
   },
   "outputs": [
    {
     "data": {
      "text/html": [
       "\n",
       "  <div id=\"df-6dd7a7ab-3bce-4923-9338-90d31170d767\">\n",
       "    <div class=\"colab-df-container\">\n",
       "      <div>\n",
       "<style scoped>\n",
       "    .dataframe tbody tr th:only-of-type {\n",
       "        vertical-align: middle;\n",
       "    }\n",
       "\n",
       "    .dataframe tbody tr th {\n",
       "        vertical-align: top;\n",
       "    }\n",
       "\n",
       "    .dataframe thead th {\n",
       "        text-align: right;\n",
       "    }\n",
       "</style>\n",
       "<table border=\"1\" class=\"dataframe\">\n",
       "  <thead>\n",
       "    <tr style=\"text-align: right;\">\n",
       "      <th></th>\n",
       "      <th>Unnamed: 0</th>\n",
       "      <th>Age</th>\n",
       "      <th>Employment Type</th>\n",
       "      <th>GraduateOrNot</th>\n",
       "      <th>AnnualIncome</th>\n",
       "      <th>FamilyMembers</th>\n",
       "      <th>ChronicDiseases</th>\n",
       "      <th>FrequentFlyer</th>\n",
       "      <th>EverTravelledAbroad</th>\n",
       "      <th>TravelInsurance</th>\n",
       "    </tr>\n",
       "  </thead>\n",
       "  <tbody>\n",
       "    <tr>\n",
       "      <th>0</th>\n",
       "      <td>0</td>\n",
       "      <td>31</td>\n",
       "      <td>0</td>\n",
       "      <td>1</td>\n",
       "      <td>400000</td>\n",
       "      <td>6</td>\n",
       "      <td>1</td>\n",
       "      <td>0</td>\n",
       "      <td>0</td>\n",
       "      <td>0</td>\n",
       "    </tr>\n",
       "    <tr>\n",
       "      <th>1</th>\n",
       "      <td>1</td>\n",
       "      <td>31</td>\n",
       "      <td>1</td>\n",
       "      <td>1</td>\n",
       "      <td>1250000</td>\n",
       "      <td>7</td>\n",
       "      <td>0</td>\n",
       "      <td>0</td>\n",
       "      <td>0</td>\n",
       "      <td>0</td>\n",
       "    </tr>\n",
       "    <tr>\n",
       "      <th>2</th>\n",
       "      <td>2</td>\n",
       "      <td>34</td>\n",
       "      <td>1</td>\n",
       "      <td>1</td>\n",
       "      <td>500000</td>\n",
       "      <td>4</td>\n",
       "      <td>1</td>\n",
       "      <td>0</td>\n",
       "      <td>0</td>\n",
       "      <td>1</td>\n",
       "    </tr>\n",
       "    <tr>\n",
       "      <th>3</th>\n",
       "      <td>3</td>\n",
       "      <td>28</td>\n",
       "      <td>1</td>\n",
       "      <td>1</td>\n",
       "      <td>700000</td>\n",
       "      <td>3</td>\n",
       "      <td>1</td>\n",
       "      <td>0</td>\n",
       "      <td>0</td>\n",
       "      <td>0</td>\n",
       "    </tr>\n",
       "    <tr>\n",
       "      <th>4</th>\n",
       "      <td>4</td>\n",
       "      <td>28</td>\n",
       "      <td>1</td>\n",
       "      <td>1</td>\n",
       "      <td>700000</td>\n",
       "      <td>8</td>\n",
       "      <td>1</td>\n",
       "      <td>1</td>\n",
       "      <td>0</td>\n",
       "      <td>0</td>\n",
       "    </tr>\n",
       "  </tbody>\n",
       "</table>\n",
       "</div>\n",
       "      <button class=\"colab-df-convert\" onclick=\"convertToInteractive('df-6dd7a7ab-3bce-4923-9338-90d31170d767')\"\n",
       "              title=\"Convert this dataframe to an interactive table.\"\n",
       "              style=\"display:none;\">\n",
       "        \n",
       "  <svg xmlns=\"http://www.w3.org/2000/svg\" height=\"24px\"viewBox=\"0 0 24 24\"\n",
       "       width=\"24px\">\n",
       "    <path d=\"M0 0h24v24H0V0z\" fill=\"none\"/>\n",
       "    <path d=\"M18.56 5.44l.94 2.06.94-2.06 2.06-.94-2.06-.94-.94-2.06-.94 2.06-2.06.94zm-11 1L8.5 8.5l.94-2.06 2.06-.94-2.06-.94L8.5 2.5l-.94 2.06-2.06.94zm10 10l.94 2.06.94-2.06 2.06-.94-2.06-.94-.94-2.06-.94 2.06-2.06.94z\"/><path d=\"M17.41 7.96l-1.37-1.37c-.4-.4-.92-.59-1.43-.59-.52 0-1.04.2-1.43.59L10.3 9.45l-7.72 7.72c-.78.78-.78 2.05 0 2.83L4 21.41c.39.39.9.59 1.41.59.51 0 1.02-.2 1.41-.59l7.78-7.78 2.81-2.81c.8-.78.8-2.07 0-2.86zM5.41 20L4 18.59l7.72-7.72 1.47 1.35L5.41 20z\"/>\n",
       "  </svg>\n",
       "      </button>\n",
       "      \n",
       "  <style>\n",
       "    .colab-df-container {\n",
       "      display:flex;\n",
       "      flex-wrap:wrap;\n",
       "      gap: 12px;\n",
       "    }\n",
       "\n",
       "    .colab-df-convert {\n",
       "      background-color: #E8F0FE;\n",
       "      border: none;\n",
       "      border-radius: 50%;\n",
       "      cursor: pointer;\n",
       "      display: none;\n",
       "      fill: #1967D2;\n",
       "      height: 32px;\n",
       "      padding: 0 0 0 0;\n",
       "      width: 32px;\n",
       "    }\n",
       "\n",
       "    .colab-df-convert:hover {\n",
       "      background-color: #E2EBFA;\n",
       "      box-shadow: 0px 1px 2px rgba(60, 64, 67, 0.3), 0px 1px 3px 1px rgba(60, 64, 67, 0.15);\n",
       "      fill: #174EA6;\n",
       "    }\n",
       "\n",
       "    [theme=dark] .colab-df-convert {\n",
       "      background-color: #3B4455;\n",
       "      fill: #D2E3FC;\n",
       "    }\n",
       "\n",
       "    [theme=dark] .colab-df-convert:hover {\n",
       "      background-color: #434B5C;\n",
       "      box-shadow: 0px 1px 3px 1px rgba(0, 0, 0, 0.15);\n",
       "      filter: drop-shadow(0px 1px 2px rgba(0, 0, 0, 0.3));\n",
       "      fill: #FFFFFF;\n",
       "    }\n",
       "  </style>\n",
       "\n",
       "      <script>\n",
       "        const buttonEl =\n",
       "          document.querySelector('#df-6dd7a7ab-3bce-4923-9338-90d31170d767 button.colab-df-convert');\n",
       "        buttonEl.style.display =\n",
       "          google.colab.kernel.accessAllowed ? 'block' : 'none';\n",
       "\n",
       "        async function convertToInteractive(key) {\n",
       "          const element = document.querySelector('#df-6dd7a7ab-3bce-4923-9338-90d31170d767');\n",
       "          const dataTable =\n",
       "            await google.colab.kernel.invokeFunction('convertToInteractive',\n",
       "                                                     [key], {});\n",
       "          if (!dataTable) return;\n",
       "\n",
       "          const docLinkHtml = 'Like what you see? Visit the ' +\n",
       "            '<a target=\"_blank\" href=https://colab.research.google.com/notebooks/data_table.ipynb>data table notebook</a>'\n",
       "            + ' to learn more about interactive tables.';\n",
       "          element.innerHTML = '';\n",
       "          dataTable['output_type'] = 'display_data';\n",
       "          await google.colab.output.renderOutput(dataTable, element);\n",
       "          const docLink = document.createElement('div');\n",
       "          docLink.innerHTML = docLinkHtml;\n",
       "          element.appendChild(docLink);\n",
       "        }\n",
       "      </script>\n",
       "    </div>\n",
       "  </div>\n",
       "  "
      ],
      "text/plain": [
       "   Unnamed: 0  Age  Employment Type  GraduateOrNot  AnnualIncome  \\\n",
       "0           0   31                0              1        400000   \n",
       "1           1   31                1              1       1250000   \n",
       "2           2   34                1              1        500000   \n",
       "3           3   28                1              1        700000   \n",
       "4           4   28                1              1        700000   \n",
       "\n",
       "   FamilyMembers  ChronicDiseases  FrequentFlyer  EverTravelledAbroad  \\\n",
       "0              6                1              0                    0   \n",
       "1              7                0              0                    0   \n",
       "2              4                1              0                    0   \n",
       "3              3                1              0                    0   \n",
       "4              8                1              1                    0   \n",
       "\n",
       "   TravelInsurance  \n",
       "0                0  \n",
       "1                0  \n",
       "2                1  \n",
       "3                0  \n",
       "4                0  "
      ]
     },
     "execution_count": 18,
     "metadata": {},
     "output_type": "execute_result"
    }
   ],
   "source": [
    "tip_df['Employment Type'] = LabelEncoder().fit_transform(tip_df['Employment Type'])\n",
    "tip_df['FrequentFlyer'] = LabelEncoder().fit_transform(tip_df['FrequentFlyer'])\n",
    "tip_df['GraduateOrNot'] = LabelEncoder().fit_transform(tip_df['GraduateOrNot'])\n",
    "tip_df['EverTravelledAbroad'] = LabelEncoder().fit_transform(tip_df['EverTravelledAbroad'])\n",
    "tip_df.head()"
   ]
  },
  {
   "cell_type": "code",
   "execution_count": 19,
   "id": "2bd08356",
   "metadata": {
    "colab": {
     "base_uri": "https://localhost:8080/",
     "height": 299
    },
    "executionInfo": {
     "elapsed": 29,
     "status": "ok",
     "timestamp": 1660041088678,
     "user": {
      "displayName": "Anmol Varshney",
      "userId": "09973869633986508713"
     },
     "user_tz": -330
    },
    "id": "2bd08356",
    "outputId": "c45357e9-fd36-46ff-cb76-925cb25d6b93"
   },
   "outputs": [
    {
     "data": {
      "text/plain": [
       "<matplotlib.axes._subplots.AxesSubplot at 0x7ffb009ccb50>"
      ]
     },
     "execution_count": 19,
     "metadata": {},
     "output_type": "execute_result"
    },
    {
     "data": {
      "image/png": "[encoded data removed]",
      "text/plain": [
       "<Figure size 432x288 with 1 Axes>"
      ]
     },
     "metadata": {
      "needs_background": "light"
     },
     "output_type": "display_data"
    }
   ],
   "source": [
    "#distribution plot using kde plot\n",
    "sns.kdeplot(x = tip_df['Employment Type'])"
   ]
  },
  {
   "cell_type": "code",
   "execution_count": 20,
   "id": "9502cc74",
   "metadata": {
    "colab": {
     "base_uri": "https://localhost:8080/",
     "height": 307
    },
    "executionInfo": {
     "elapsed": 25,
     "status": "ok",
     "timestamp": 1660041088679,
     "user": {
      "displayName": "Anmol Varshney",
      "userId": "09973869633986508713"
     },
     "user_tz": -330
    },
    "id": "9502cc74",
    "outputId": "c886f3d8-34b0-4286-992c-37c9d5577690"
   },
   "outputs": [
    {
     "data": {
      "text/plain": [
       "<matplotlib.axes._subplots.AxesSubplot at 0x7ffb00c42e50>"
      ]
     },
     "execution_count": 20,
     "metadata": {},
     "output_type": "execute_result"
    },
    {
     "data": {
      "image/png": "[encoded data removed]",
      "text/plain": [
       "<Figure size 432x288 with 1 Axes>"
      ]
     },
     "metadata": {
      "needs_background": "light"
     },
     "output_type": "display_data"
    }
   ],
   "source": [
    "sns.kdeplot(x = tip_df['AnnualIncome'])"
   ]
  },
  {
   "cell_type": "code",
   "execution_count": 21,
   "id": "efb77aab",
   "metadata": {
    "colab": {
     "base_uri": "https://localhost:8080/",
     "height": 705
    },
    "executionInfo": {
     "elapsed": 1680,
     "status": "ok",
     "timestamp": 1660041090340,
     "user": {
      "displayName": "Anmol Varshney",
      "userId": "09973869633986508713"
     },
     "user_tz": -330
    },
    "id": "efb77aab",
    "outputId": "b7d3f35f-9a62-4fbf-fddf-98c515c34f81"
   },
   "outputs": [
    {
     "data": {
      "text/plain": [
       "<matplotlib.axes._subplots.AxesSubplot at 0x7ffafeee5b10>"
      ]
     },
     "execution_count": 21,
     "metadata": {},
     "output_type": "execute_result"
    },
    {
     "data": {
      "image/png": "[encoded data removed]",
      "text/plain": [
       "<Figure size 720x720 with 2 Axes>"
      ]
     },
     "metadata": {
      "needs_background": "light"
     },
     "output_type": "display_data"
    }
   ],
   "source": [
    "fig, ax = plt.subplots(figsize=(10,10))\n",
    "sns.heatmap(tip_df.corr(), annot=True)"
   ]
  },
  {
   "cell_type": "markdown",
   "id": "4032fa31",
   "metadata": {
    "id": "4032fa31"
   },
   "source": [
    "\n",
    "### Data Preprocessing\n",
    "It is needed to inhance accuracy"
   ]
  },
  {
   "cell_type": "code",
   "execution_count": 22,
   "id": "ca405059",
   "metadata": {
    "executionInfo": {
     "elapsed": 11,
     "status": "ok",
     "timestamp": 1660041090342,
     "user": {
      "displayName": "Anmol Varshney",
      "userId": "09973869633986508713"
     },
     "user_tz": -330
    },
    "id": "ca405059"
   },
   "outputs": [],
   "source": [
    "#Preparing the dataset for applying in the model\n",
    "target = 'TravelInsurance'\n",
    "#Splitting the dataset into training and validation data\n",
    "X = tip_df.drop(target, axis=1)\n",
    "Y = tip_df[target]\n",
    "X_train, X_val, Y_train, Y_val = train_test_split(X, Y, random_state=101, test_size=0.3)\n",
    "\n",
    "#Feature Scaling\n",
    "scaler = StandardScaler()\n",
    "scaler.fit(X_train)\n",
    "X_train = scaler.transform(X_train)\n",
    "X_val = scaler.transform(X_val)\n",
    "\n",
    "#Feature reduction\n",
    "pca = PCA()\n",
    "pca = pca.fit(X_train, Y_train)"
   ]
  },
  {
   "cell_type": "code",
   "execution_count": 23,
   "id": "bc1d10b9",
   "metadata": {
    "colab": {
     "base_uri": "https://localhost:8080/",
     "height": 279
    },
    "executionInfo": {
     "elapsed": 738,
     "status": "ok",
     "timestamp": 1660041091070,
     "user": {
      "displayName": "Anmol Varshney",
      "userId": "09973869633986508713"
     },
     "user_tz": -330
    },
    "id": "bc1d10b9",
    "outputId": "eeeb6d6e-63b1-4dea-9ea9-f6be4f120736"
   },
   "outputs": [
    {
     "data": {
      "image/png": "[encoded data removed]",
      "text/plain": [
       "<Figure size 432x288 with 1 Axes>"
      ]
     },
     "metadata": {
      "needs_background": "light"
     },
     "output_type": "display_data"
    }
   ],
   "source": [
    "plt.bar(range(1,len(pca.explained_variance_)+1),pca.explained_variance_)\n",
    "plt.ylabel('Explained Variance')\n",
    "plt.xlabel('Components')\n",
    "plt.plot(range(1,len(pca.explained_variance_)+1), np.cumsum(pca.explained_variance_), c='red', label='CEV')\n",
    "plt.legend(loc='upper left')\n",
    "plt.show()"
   ]
  },
  {
   "cell_type": "code",
   "execution_count": 24,
   "id": "7532c1f2",
   "metadata": {
    "executionInfo": {
     "elapsed": 104,
     "status": "ok",
     "timestamp": 1660041091072,
     "user": {
      "displayName": "Anmol Varshney",
      "userId": "09973869633986508713"
     },
     "user_tz": -330
    },
    "id": "7532c1f2"
   },
   "outputs": [],
   "source": [
    "#feature transformation using Pca reduction technique\n",
    "X_train = pca.transform(X_train)\n",
    "X_val = pca.transform(X_val)"
   ]
  },
  {
   "cell_type": "markdown",
   "id": "3254ac6a",
   "metadata": {
    "id": "3254ac6a"
   },
   "source": [
    "### Model1: K Nearest Neighbors Classifier"
   ]
  },
  {
   "cell_type": "code",
   "execution_count": 25,
   "id": "c2763830",
   "metadata": {
    "colab": {
     "base_uri": "https://localhost:8080/",
     "height": 376
    },
    "executionInfo": {
     "elapsed": 104,
     "status": "ok",
     "timestamp": 1660041091075,
     "user": {
      "displayName": "Anmol Varshney",
      "userId": "09973869633986508713"
     },
     "user_tz": -330
    },
    "id": "c2763830",
    "outputId": "607c675e-ab9f-4b99-f42e-3915e9b95342"
   },
   "outputs": [
    {
     "data": {
      "text/plain": [
       "<sklearn.metrics._plot.confusion_matrix.ConfusionMatrixDisplay at 0x7ffb0c0a1450>"
      ]
     },
     "execution_count": 25,
     "metadata": {},
     "output_type": "execute_result"
    },
    {
     "data": {
      "image/png": "[encoded data removed]",
      "text/plain": [
       "<Figure size 432x432 with 2 Axes>"
      ]
     },
     "metadata": {
      "needs_background": "light"
     },
     "output_type": "display_data"
    }
   ],
   "source": [
    "#Applying the K-nearest neighbor algorithm\n",
    "model_knn = KNeighborsClassifier(n_neighbors=7)\n",
    "model_knn.fit(X_train, Y_train)\n",
    "prediction = model_knn.predict(X_val)\n",
    "\n",
    "fig, ax = plt.subplots(figsize=(6,6))\n",
    "plot_confusion_matrix(model_knn, X_val, Y_val, ax=ax, cmap='Blues')"
   ]
  },
  {
   "cell_type": "markdown",
   "id": "yuxADW46S9Nf",
   "metadata": {
    "id": "yuxADW46S9Nf"
   },
   "source": [
    "#### Performance"
   ]
  },
  {
   "cell_type": "markdown",
   "id": "1bfd221e",
   "metadata": {
    "id": "1bfd221e"
   },
   "source": [
    "Above confusion matrix shows some true positives as well as false positive values.\n",
    "\n",
    "Some other performance measures for KNN classifier"
   ]
  },
  {
   "cell_type": "code",
   "execution_count": 26,
   "id": "3667e829",
   "metadata": {
    "colab": {
     "base_uri": "https://localhost:8080/"
    },
    "executionInfo": {
     "elapsed": 89,
     "status": "ok",
     "timestamp": 1660041091077,
     "user": {
      "displayName": "Anmol Varshney",
      "userId": "09973869633986508713"
     },
     "user_tz": -330
    },
    "id": "3667e829",
    "outputId": "102170c2-b97a-4e17-bc12-958c345e19fb"
   },
   "outputs": [
    {
     "data": {
      "text/plain": [
       "1.746370594595393"
      ]
     },
     "execution_count": 26,
     "metadata": {},
     "output_type": "execute_result"
    }
   ],
   "source": [
    "log_loss(Y_val, model_knn.predict_proba(X_val))"
   ]
  },
  {
   "cell_type": "code",
   "execution_count": 27,
   "id": "89a0834f",
   "metadata": {
    "colab": {
     "base_uri": "https://localhost:8080/"
    },
    "executionInfo": {
     "elapsed": 79,
     "status": "ok",
     "timestamp": 1660041091080,
     "user": {
      "displayName": "Anmol Varshney",
      "userId": "09973869633986508713"
     },
     "user_tz": -330
    },
    "id": "89a0834f",
    "outputId": "86917493-874a-43d0-d210-e34338f63a7c"
   },
   "outputs": [
    {
     "name": "stdout",
     "output_type": "stream",
     "text": [
      "------------Classification report--------------- \n",
      "              precision    recall  f1-score   support\n",
      "\n",
      "           0       0.78      0.90      0.84       385\n",
      "           1       0.75      0.55      0.63       212\n",
      "\n",
      "    accuracy                           0.77       597\n",
      "   macro avg       0.76      0.72      0.74       597\n",
      "weighted avg       0.77      0.77      0.76       597\n",
      "\n",
      "f1-score:  0.7352549889135254\n"
     ]
    }
   ],
   "source": [
    "print('------------Classification report--------------- ')\n",
    "print(classification_report(Y_val, prediction))\n",
    "acc_knn = accuracy_score(Y_val, prediction)\n",
    "f1_knn = f1_score(Y_val, prediction, average='macro')\n",
    "print(\"f1-score: \", f1_knn)"
   ]
  },
  {
   "cell_type": "markdown",
   "id": "eASCg2NDS3O8",
   "metadata": {
    "id": "eASCg2NDS3O8"
   },
   "source": [
    "This model is showing 0.99 score in classification with the accuracy of 1.00"
   ]
  },
  {
   "cell_type": "markdown",
   "id": "vurQSz6cR5hi",
   "metadata": {
    "id": "vurQSz6cR5hi"
   },
   "source": [
    "### KNN with HyperParameter Tuning"
   ]
  },
  {
   "cell_type": "code",
   "execution_count": 28,
   "id": "a4fCuDdtSaWY",
   "metadata": {
    "colab": {
     "base_uri": "https://localhost:8080/"
    },
    "executionInfo": {
     "elapsed": 16508,
     "status": "ok",
     "timestamp": 1660041107526,
     "user": {
      "displayName": "Anmol Varshney",
      "userId": "09973869633986508713"
     },
     "user_tz": -330
    },
    "id": "a4fCuDdtSaWY",
    "outputId": "4d0c9e54-e9e9-4e91-bbb6-493c74a75350"
   },
   "outputs": [
    {
     "name": "stdout",
     "output_type": "stream",
     "text": [
      "Fitting 5 folds for each of 80 candidates, totalling 400 fits\n",
      "0.7863309352517985\n",
      "KNeighborsClassifier(leaf_size=1, n_neighbors=8)\n",
      "{'leaf_size': 1, 'n_neighbors': 8}\n"
     ]
    }
   ],
   "source": [
    "knn = KNeighborsClassifier()\n",
    "parameters = {'n_neighbors':[6,8,10,12,14,16,18,20],\n",
    "         'leaf_size':list(range(1,50,5))}\n",
    "\n",
    "#tuner\n",
    "gs = GridSearchCV(knn, param_grid= parameters, cv = 5,scoring = \"accuracy\",verbose=1)\n",
    "gs.fit(X_train, Y_train)\n",
    "\n",
    "print(gs.best_score_)\n",
    "print(gs.best_estimator_)\n",
    "print(gs.best_params_)"
   ]
  },
  {
   "cell_type": "markdown",
   "id": "6sXBjr8rTMuQ",
   "metadata": {
    "id": "6sXBjr8rTMuQ"
   },
   "source": [
    "#### Performance"
   ]
  },
  {
   "cell_type": "code",
   "execution_count": 29,
   "id": "rsu_BOMMTT6i",
   "metadata": {
    "colab": {
     "base_uri": "https://localhost:8080/",
     "height": 296
    },
    "executionInfo": {
     "elapsed": 57,
     "status": "ok",
     "timestamp": 1660041107529,
     "user": {
      "displayName": "Anmol Varshney",
      "userId": "09973869633986508713"
     },
     "user_tz": -330
    },
    "id": "rsu_BOMMTT6i",
    "outputId": "9ab236de-7a9b-46c9-dc00-bdb0fcfedc5d"
   },
   "outputs": [
    {
     "data": {
      "text/plain": [
       "<sklearn.metrics._plot.confusion_matrix.ConfusionMatrixDisplay at 0x7ffafecf7250>"
      ]
     },
     "execution_count": 29,
     "metadata": {},
     "output_type": "execute_result"
    },
    {
     "data": {
      "image/png": "[encoded data removed]",
      "text/plain": [
       "<Figure size 432x288 with 2 Axes>"
      ]
     },
     "metadata": {
      "needs_background": "light"
     },
     "output_type": "display_data"
    }
   ],
   "source": [
    "plot_confusion_matrix(gs, X_val, Y_val,cmap='Blues')"
   ]
  },
  {
   "cell_type": "code",
   "execution_count": 30,
   "id": "fOXBClx4SxvB",
   "metadata": {
    "colab": {
     "base_uri": "https://localhost:8080/"
    },
    "executionInfo": {
     "elapsed": 43,
     "status": "ok",
     "timestamp": 1660041107532,
     "user": {
      "displayName": "Anmol Varshney",
      "userId": "09973869633986508713"
     },
     "user_tz": -330
    },
    "id": "fOXBClx4SxvB",
    "outputId": "6d84cf5e-4121-4d2d-f5fc-29c12edf3a57"
   },
   "outputs": [
    {
     "data": {
      "text/plain": [
       "1.5818238036583445"
      ]
     },
     "execution_count": 30,
     "metadata": {},
     "output_type": "execute_result"
    }
   ],
   "source": [
    "log_loss(Y_val, gs.predict_proba(X_val))"
   ]
  },
  {
   "cell_type": "code",
   "execution_count": 31,
   "id": "3DvBsCfZS0BB",
   "metadata": {
    "colab": {
     "base_uri": "https://localhost:8080/"
    },
    "executionInfo": {
     "elapsed": 792,
     "status": "ok",
     "timestamp": 1660041108293,
     "user": {
      "displayName": "Anmol Varshney",
      "userId": "09973869633986508713"
     },
     "user_tz": -330
    },
    "id": "3DvBsCfZS0BB",
    "outputId": "9c631ab0-cf4d-46d5-cf9e-0f634e86c125"
   },
   "outputs": [
    {
     "name": "stdout",
     "output_type": "stream",
     "text": [
      "------------Classification report--------------- \n",
      "              precision    recall  f1-score   support\n",
      "\n",
      "           0       0.77      0.93      0.84       385\n",
      "           1       0.79      0.50      0.62       212\n",
      "\n",
      "    accuracy                           0.78       597\n",
      "   macro avg       0.78      0.72      0.73       597\n",
      "weighted avg       0.78      0.78      0.76       597\n",
      "\n",
      "f1-score:  0.7772194304857621\n"
     ]
    }
   ],
   "source": [
    "print('------------Classification report--------------- ')\n",
    "print(classification_report(Y_val, gs.predict(X_val)))\n",
    "acc_knn_tuned = (accuracy_score(Y_val, gs.predict(X_val)))\n",
    "f1_knn_tuned = (accuracy_score(Y_val, gs.predict(X_val)))\n",
    "print(\"f1-score: \", f1_knn_tuned)"
   ]
  },
  {
   "cell_type": "markdown",
   "id": "63d1b5ac",
   "metadata": {
    "id": "63d1b5ac"
   },
   "source": [
    "### Model 2: Random forest Classification "
   ]
  },
  {
   "cell_type": "code",
   "execution_count": 32,
   "id": "45f68157",
   "metadata": {
    "colab": {
     "base_uri": "https://localhost:8080/",
     "height": 398
    },
    "executionInfo": {
     "elapsed": 713,
     "status": "ok",
     "timestamp": 1660041108989,
     "user": {
      "displayName": "Anmol Varshney",
      "userId": "09973869633986508713"
     },
     "user_tz": -330
    },
    "id": "45f68157",
    "outputId": "9adf8081-4c9e-453c-a7a8-976f341ef621"
   },
   "outputs": [
    {
     "name": "stdout",
     "output_type": "stream",
     "text": [
      "----------------Confusion Matrix-------------------\n"
     ]
    },
    {
     "data": {
      "text/plain": [
       "<sklearn.metrics._plot.confusion_matrix.ConfusionMatrixDisplay at 0x7ffafeba3890>"
      ]
     },
     "execution_count": 32,
     "metadata": {},
     "output_type": "execute_result"
    },
    {
     "data": {
      "image/png": "[encoded data removed]",
      "text/plain": [
       "<Figure size 432x432 with 2 Axes>"
      ]
     },
     "metadata": {
      "needs_background": "light"
     },
     "output_type": "display_data"
    }
   ],
   "source": [
    "#Applying the Random Forest algorithm\n",
    "model_rf = RandomForestClassifier(n_estimators=50)\n",
    "model_rf.fit(X_train, Y_train)\n",
    "prediction = model_rf.predict(X_val)\n",
    "\n",
    "print('----------------Confusion Matrix-------------------')\n",
    "fig, ax = plt.subplots(figsize=(6,6))\n",
    "plot_confusion_matrix(model_rf, X_val, Y_val, ax=ax, cmap='Blues')"
   ]
  },
  {
   "cell_type": "markdown",
   "id": "kLFRzF8tWVwP",
   "metadata": {
    "id": "kLFRzF8tWVwP"
   },
   "source": [
    "#### Performance"
   ]
  },
  {
   "cell_type": "code",
   "execution_count": 33,
   "id": "0e927789",
   "metadata": {
    "colab": {
     "base_uri": "https://localhost:8080/"
    },
    "executionInfo": {
     "elapsed": 52,
     "status": "ok",
     "timestamp": 1660041108994,
     "user": {
      "displayName": "Anmol Varshney",
      "userId": "09973869633986508713"
     },
     "user_tz": -330
    },
    "id": "0e927789",
    "outputId": "4818297a-142c-42d2-b413-fb10e71ad99c"
   },
   "outputs": [
    {
     "data": {
      "text/plain": [
       "0.6861910891213847"
      ]
     },
     "execution_count": 33,
     "metadata": {},
     "output_type": "execute_result"
    }
   ],
   "source": [
    "log_loss(Y_val, model_rf.predict_proba(X_val))"
   ]
  },
  {
   "cell_type": "code",
   "execution_count": 34,
   "id": "77e270b2",
   "metadata": {
    "colab": {
     "base_uri": "https://localhost:8080/"
    },
    "executionInfo": {
     "elapsed": 41,
     "status": "ok",
     "timestamp": 1660041108997,
     "user": {
      "displayName": "Anmol Varshney",
      "userId": "09973869633986508713"
     },
     "user_tz": -330
    },
    "id": "77e270b2",
    "outputId": "b632543f-17da-4406-9205-ae697332316d"
   },
   "outputs": [
    {
     "name": "stdout",
     "output_type": "stream",
     "text": [
      "------------Classification report--------------- \n",
      "              precision    recall  f1-score   support\n",
      "\n",
      "           0       0.80      0.91      0.85       385\n",
      "           1       0.78      0.59      0.67       212\n",
      "\n",
      "    accuracy                           0.80       597\n",
      "   macro avg       0.79      0.75      0.76       597\n",
      "weighted avg       0.79      0.80      0.79       597\n",
      "\n",
      "f1-score:  0.7618122596342516\n"
     ]
    }
   ],
   "source": [
    "print('------------Classification report--------------- ')\n",
    "print(classification_report(Y_val, prediction))\n",
    "acc_rf = accuracy_score(Y_val, prediction)\n",
    "f1_rf = f1_score(Y_val, prediction, average='macro')\n",
    "print(\"f1-score: \", f1_rf)"
   ]
  },
  {
   "cell_type": "markdown",
   "id": "88yA591HVboC",
   "metadata": {
    "id": "88yA591HVboC"
   },
   "source": [
    "### RF with HyperParameter Tuning"
   ]
  },
  {
   "cell_type": "code",
   "execution_count": 35,
   "id": "1UZgCDWaVU1e",
   "metadata": {
    "colab": {
     "base_uri": "https://localhost:8080/"
    },
    "executionInfo": {
     "elapsed": 56480,
     "status": "ok",
     "timestamp": 1660041165450,
     "user": {
      "displayName": "Anmol Varshney",
      "userId": "09973869633986508713"
     },
     "user_tz": -330
    },
    "id": "1UZgCDWaVU1e",
    "outputId": "47023c9f-b153-4c58-f05a-12372abe96e8"
   },
   "outputs": [
    {
     "name": "stdout",
     "output_type": "stream",
     "text": [
      "0.8129496402877697\n",
      "RandomForestClassifier(criterion='entropy', max_depth=8, n_estimators=80,\n",
      "                       random_state=42)\n",
      "{'criterion': 'entropy', 'max_depth': 8, 'max_features': 'auto', 'n_estimators': 80}\n"
     ]
    }
   ],
   "source": [
    "rf = RandomForestClassifier(random_state=42)\n",
    "parameters =  {'n_estimators': [10,80],\n",
    "              'max_features': ['auto', 'sqrt', 'log2'],\n",
    "              'max_depth' : [4,5,6,7,8],\n",
    "              'criterion' :['gini', 'entropy']\n",
    "              }\n",
    "gs = GridSearchCV(estimator=rf, param_grid=parameters, scoring=\"accuracy\", cv= 5)\n",
    "gs.fit(X_train, Y_train)\n",
    "\n",
    "print(gs.best_score_)\n",
    "print(gs.best_estimator_)\n",
    "print(gs.best_params_)"
   ]
  },
  {
   "cell_type": "markdown",
   "id": "WmsWC-_2VU1f",
   "metadata": {
    "id": "WmsWC-_2VU1f"
   },
   "source": [
    "#### Performance"
   ]
  },
  {
   "cell_type": "code",
   "execution_count": 36,
   "id": "qW8ZYZaxVU1f",
   "metadata": {
    "colab": {
     "base_uri": "https://localhost:8080/",
     "height": 296
    },
    "executionInfo": {
     "elapsed": 135,
     "status": "ok",
     "timestamp": 1660041165454,
     "user": {
      "displayName": "Anmol Varshney",
      "userId": "09973869633986508713"
     },
     "user_tz": -330
    },
    "id": "qW8ZYZaxVU1f",
    "outputId": "25e574bf-56a5-41be-d6aa-f53ae359ea2c"
   },
   "outputs": [
    {
     "data": {
      "text/plain": [
       "<sklearn.metrics._plot.confusion_matrix.ConfusionMatrixDisplay at 0x7ffafea39690>"
      ]
     },
     "execution_count": 36,
     "metadata": {},
     "output_type": "execute_result"
    },
    {
     "data": {
      "image/png": "[encoded data removed]",
      "text/plain": [
       "<Figure size 432x288 with 2 Axes>"
      ]
     },
     "metadata": {
      "needs_background": "light"
     },
     "output_type": "display_data"
    }
   ],
   "source": [
    "plot_confusion_matrix(gs, X_val, Y_val,cmap='Blues')"
   ]
  },
  {
   "cell_type": "code",
   "execution_count": 37,
   "id": "s8whNRbsVU1f",
   "metadata": {
    "colab": {
     "base_uri": "https://localhost:8080/"
    },
    "executionInfo": {
     "elapsed": 121,
     "status": "ok",
     "timestamp": 1660041165457,
     "user": {
      "displayName": "Anmol Varshney",
      "userId": "09973869633986508713"
     },
     "user_tz": -330
    },
    "id": "s8whNRbsVU1f",
    "outputId": "69215903-ad42-421a-f2ec-efe246209ec7"
   },
   "outputs": [
    {
     "data": {
      "text/plain": [
       "0.46126112160905747"
      ]
     },
     "execution_count": 37,
     "metadata": {},
     "output_type": "execute_result"
    }
   ],
   "source": [
    "log_loss(Y_val, gs.predict_proba(X_val))"
   ]
  },
  {
   "cell_type": "code",
   "execution_count": 38,
   "id": "FhL7d7sHVU1f",
   "metadata": {
    "colab": {
     "base_uri": "https://localhost:8080/"
    },
    "executionInfo": {
     "elapsed": 109,
     "status": "ok",
     "timestamp": 1660041165461,
     "user": {
      "displayName": "Anmol Varshney",
      "userId": "09973869633986508713"
     },
     "user_tz": -330
    },
    "id": "FhL7d7sHVU1f",
    "outputId": "3adfde06-005a-4500-880a-846c6f72c067"
   },
   "outputs": [
    {
     "name": "stdout",
     "output_type": "stream",
     "text": [
      "------------Classification report--------------- \n",
      "              precision    recall  f1-score   support\n",
      "\n",
      "           0       0.80      0.95      0.87       385\n",
      "           1       0.86      0.56      0.68       212\n",
      "\n",
      "    accuracy                           0.81       597\n",
      "   macro avg       0.83      0.75      0.77       597\n",
      "weighted avg       0.82      0.81      0.80       597\n",
      "\n",
      "f1-score:  0.8107202680067002\n"
     ]
    }
   ],
   "source": [
    "print('------------Classification report--------------- ')\n",
    "print(classification_report(Y_val, gs.predict(X_val)))\n",
    "acc_rf_tuned = (accuracy_score(Y_val, gs.predict(X_val)))\n",
    "f1_rf_tuned = (accuracy_score(Y_val, gs.predict(X_val)))\n",
    "print(\"f1-score: \", f1_rf_tuned)"
   ]
  },
  {
   "cell_type": "markdown",
   "id": "8fb6ba98",
   "metadata": {
    "id": "8fb6ba98"
   },
   "source": [
    "### Model 3: Decision Tree Classifier"
   ]
  },
  {
   "cell_type": "code",
   "execution_count": 39,
   "id": "c4bb2c84",
   "metadata": {
    "executionInfo": {
     "elapsed": 97,
     "status": "ok",
     "timestamp": 1660041165464,
     "user": {
      "displayName": "Anmol Varshney",
      "userId": "09973869633986508713"
     },
     "user_tz": -330
    },
    "id": "c4bb2c84"
   },
   "outputs": [],
   "source": [
    "#Instantiating the classifier\n",
    "model_dt = DecisionTreeClassifier()\n",
    "#fitting our model with training datasets\n",
    "model_dt.fit(X_train, Y_train)\n",
    "prediction = model_dt.predict(X_val)"
   ]
  },
  {
   "cell_type": "markdown",
   "id": "w54s0huwW45I",
   "metadata": {
    "id": "w54s0huwW45I"
   },
   "source": [
    "#### Performance"
   ]
  },
  {
   "cell_type": "code",
   "execution_count": 40,
   "id": "99133e64",
   "metadata": {
    "colab": {
     "base_uri": "https://localhost:8080/",
     "height": 379
    },
    "executionInfo": {
     "elapsed": 832,
     "status": "ok",
     "timestamp": 1660041166202,
     "user": {
      "displayName": "Anmol Varshney",
      "userId": "09973869633986508713"
     },
     "user_tz": -330
    },
    "id": "99133e64",
    "outputId": "82ebc11e-410f-45c6-ef53-f522989f9013"
   },
   "outputs": [
    {
     "data": {
      "text/plain": [
       "<sklearn.metrics._plot.confusion_matrix.ConfusionMatrixDisplay at 0x7ffafe9a1b50>"
      ]
     },
     "execution_count": 40,
     "metadata": {},
     "output_type": "execute_result"
    },
    {
     "data": {
      "image/png": "[encoded data removed]",
      "text/plain": [
       "<Figure size 432x432 with 2 Axes>"
      ]
     },
     "metadata": {
      "needs_background": "light"
     },
     "output_type": "display_data"
    }
   ],
   "source": [
    "fig, ax = plt.subplots(figsize=(6,6))\n",
    "plot_confusion_matrix(model_dt, X_val, Y_val, ax=ax, cmap='Blues')"
   ]
  },
  {
   "cell_type": "code",
   "execution_count": 41,
   "id": "f99CF9WrXNQm",
   "metadata": {
    "colab": {
     "base_uri": "https://localhost:8080/"
    },
    "executionInfo": {
     "elapsed": 66,
     "status": "ok",
     "timestamp": 1660041166205,
     "user": {
      "displayName": "Anmol Varshney",
      "userId": "09973869633986508713"
     },
     "user_tz": -330
    },
    "id": "f99CF9WrXNQm",
    "outputId": "9b80a6af-05e2-410d-988e-dde9ba04f987"
   },
   "outputs": [
    {
     "name": "stdout",
     "output_type": "stream",
     "text": [
      "log-loss:  9.545892973467778\n"
     ]
    }
   ],
   "source": [
    "print(\"log-loss: \", log_loss(Y_val, model_dt.predict_proba(X_val)))"
   ]
  },
  {
   "cell_type": "code",
   "execution_count": 42,
   "id": "wt5eP-zIW_6Q",
   "metadata": {
    "colab": {
     "base_uri": "https://localhost:8080/"
    },
    "executionInfo": {
     "elapsed": 46,
     "status": "ok",
     "timestamp": 1660041166208,
     "user": {
      "displayName": "Anmol Varshney",
      "userId": "09973869633986508713"
     },
     "user_tz": -330
    },
    "id": "wt5eP-zIW_6Q",
    "outputId": "aa700bf1-7f2b-410f-dd36-de4ca471b268"
   },
   "outputs": [
    {
     "name": "stdout",
     "output_type": "stream",
     "text": [
      "classification report\n",
      "              precision    recall  f1-score   support\n",
      "\n",
      "           0       0.80      0.76      0.78       385\n",
      "           1       0.60      0.65      0.63       212\n",
      "\n",
      "    accuracy                           0.72       597\n",
      "   macro avg       0.70      0.71      0.70       597\n",
      "weighted avg       0.73      0.72      0.73       597\n",
      "\n",
      "f1-score:  0.7033634170799794\n"
     ]
    }
   ],
   "source": [
    "#Evaluation of result\n",
    "print(\"classification report\")\n",
    "print(classification_report(Y_val, prediction))\n",
    "\n",
    "acc_dt = accuracy_score(Y_val, prediction)\n",
    "f1_dt = f1_score(Y_val, prediction, average='macro')\n",
    "print(\"f1-score: \", f1_dt)"
   ]
  },
  {
   "cell_type": "markdown",
   "id": "v99zSqaAWskv",
   "metadata": {
    "id": "v99zSqaAWskv"
   },
   "source": [
    "### DT with HyperParameter Tuning"
   ]
  },
  {
   "cell_type": "code",
   "execution_count": 43,
   "id": "35UO9tLEWsk2",
   "metadata": {
    "colab": {
     "base_uri": "https://localhost:8080/"
    },
    "executionInfo": {
     "elapsed": 2616,
     "status": "ok",
     "timestamp": 1660041168790,
     "user": {
      "displayName": "Anmol Varshney",
      "userId": "09973869633986508713"
     },
     "user_tz": -330
    },
    "id": "35UO9tLEWsk2",
    "outputId": "260c15cb-a174-44d1-94bc-34eb4232ec68"
   },
   "outputs": [
    {
     "name": "stdout",
     "output_type": "stream",
     "text": [
      "Fitting 5 folds for each of 50 candidates, totalling 250 fits\n",
      "0.7884892086330935\n",
      "DecisionTreeClassifier(max_depth=2, min_samples_leaf=5, random_state=42)\n",
      "{'criterion': 'gini', 'max_depth': 2, 'min_samples_leaf': 5}\n"
     ]
    }
   ],
   "source": [
    "dt = DecisionTreeClassifier(random_state=42)\n",
    "parameters =  {'max_depth': [2, 3, 5, 10, 20],\n",
    "              'min_samples_leaf': [5, 10, 20, 50, 80],\n",
    "              'criterion': [\"gini\", \"entropy\"]\n",
    "              }\n",
    "\n",
    "gs = GridSearchCV(estimator=dt, param_grid=parameters, scoring=\"accuracy\", cv= 5, verbose=1)\n",
    "gs.fit(X_train, Y_train)\n",
    "\n",
    "print(gs.best_score_)\n",
    "print(gs.best_estimator_)\n",
    "print(gs.best_params_)"
   ]
  },
  {
   "cell_type": "markdown",
   "id": "sVHFdZpdWsk2",
   "metadata": {
    "id": "sVHFdZpdWsk2"
   },
   "source": [
    "#### Performance"
   ]
  },
  {
   "cell_type": "code",
   "execution_count": 44,
   "id": "_ipfgE-TWsk2",
   "metadata": {
    "colab": {
     "base_uri": "https://localhost:8080/",
     "height": 296
    },
    "executionInfo": {
     "elapsed": 82,
     "status": "ok",
     "timestamp": 1660041168793,
     "user": {
      "displayName": "Anmol Varshney",
      "userId": "09973869633986508713"
     },
     "user_tz": -330
    },
    "id": "_ipfgE-TWsk2",
    "outputId": "eec0704c-6c7c-45a2-c9b4-5273d2e4cf90"
   },
   "outputs": [
    {
     "data": {
      "text/plain": [
       "<sklearn.metrics._plot.confusion_matrix.ConfusionMatrixDisplay at 0x7ffafe917450>"
      ]
     },
     "execution_count": 44,
     "metadata": {},
     "output_type": "execute_result"
    },
    {
     "data": {
      "image/png": "[encoded data removed]",
      "text/plain": [
       "<Figure size 432x288 with 2 Axes>"
      ]
     },
     "metadata": {
      "needs_background": "light"
     },
     "output_type": "display_data"
    }
   ],
   "source": [
    "plot_confusion_matrix(gs, X_val, Y_val,cmap='Blues')"
   ]
  },
  {
   "cell_type": "code",
   "execution_count": 45,
   "id": "8mn99wUxWsk2",
   "metadata": {
    "colab": {
     "base_uri": "https://localhost:8080/"
    },
    "executionInfo": {
     "elapsed": 68,
     "status": "ok",
     "timestamp": 1660041168797,
     "user": {
      "displayName": "Anmol Varshney",
      "userId": "09973869633986508713"
     },
     "user_tz": -330
    },
    "id": "8mn99wUxWsk2",
    "outputId": "01a14085-a2cf-48b6-a180-7fad8e6f2ebd"
   },
   "outputs": [
    {
     "data": {
      "text/plain": [
       "0.5004116037087175"
      ]
     },
     "execution_count": 45,
     "metadata": {},
     "output_type": "execute_result"
    }
   ],
   "source": [
    "log_loss(Y_val, gs.predict_proba(X_val))"
   ]
  },
  {
   "cell_type": "code",
   "execution_count": 46,
   "id": "K-f_Xo8wWsk2",
   "metadata": {
    "colab": {
     "base_uri": "https://localhost:8080/"
    },
    "executionInfo": {
     "elapsed": 47,
     "status": "ok",
     "timestamp": 1660041168800,
     "user": {
      "displayName": "Anmol Varshney",
      "userId": "09973869633986508713"
     },
     "user_tz": -330
    },
    "id": "K-f_Xo8wWsk2",
    "outputId": "23b52d89-20a8-432b-8223-07c4d0d2588a"
   },
   "outputs": [
    {
     "name": "stdout",
     "output_type": "stream",
     "text": [
      "------------Classification report--------------- \n",
      "              precision    recall  f1-score   support\n",
      "\n",
      "           0       0.78      0.93      0.85       385\n",
      "           1       0.81      0.51      0.62       212\n",
      "\n",
      "    accuracy                           0.78       597\n",
      "   macro avg       0.79      0.72      0.74       597\n",
      "weighted avg       0.79      0.78      0.77       597\n",
      "\n",
      "f1-score:  0.7822445561139029\n"
     ]
    }
   ],
   "source": [
    "print('------------Classification report--------------- ')\n",
    "print(classification_report(Y_val, gs.predict(X_val)))\n",
    "acc_dt_tuned = (accuracy_score(Y_val, gs.predict(X_val)))\n",
    "f1_dt_tuned = (accuracy_score(Y_val, gs.predict(X_val)))\n",
    "print(\"f1-score: \", f1_dt_tuned)"
   ]
  },
  {
   "cell_type": "markdown",
   "id": "ecde2741",
   "metadata": {
    "id": "ecde2741"
   },
   "source": [
    "### Model 4:  ANN (Artifitial Neural Network)"
   ]
  },
  {
   "cell_type": "code",
   "execution_count": 61,
   "id": "b4a595d0",
   "metadata": {
    "colab": {
     "base_uri": "https://localhost:8080/"
    },
    "executionInfo": {
     "elapsed": 12483,
     "status": "ok",
     "timestamp": 1660043538905,
     "user": {
      "displayName": "Anmol Varshney",
      "userId": "09973869633986508713"
     },
     "user_tz": -330
    },
    "id": "b4a595d0",
    "outputId": "dbc9382e-5739-4200-c129-5360ba35ef34"
   },
   "outputs": [
    {
     "name": "stdout",
     "output_type": "stream",
     "text": [
      "Epoch 1/70\n",
      "44/44 [==============================] - 1s 6ms/step - loss: 0.6658 - accuracy: 0.6022 - val_loss: 0.6418 - val_accuracy: 0.6600\n",
      "Epoch 2/70\n",
      "44/44 [==============================] - 0s 3ms/step - loss: 0.6167 - accuracy: 0.6957 - val_loss: 0.6047 - val_accuracy: 0.7320\n",
      "Epoch 3/70\n",
      "44/44 [==============================] - 0s 3ms/step - loss: 0.5776 - accuracy: 0.7547 - val_loss: 0.5716 - val_accuracy: 0.7638\n",
      "Epoch 4/70\n",
      "44/44 [==============================] - 0s 3ms/step - loss: 0.5433 - accuracy: 0.7662 - val_loss: 0.5466 - val_accuracy: 0.7672\n",
      "Epoch 5/70\n",
      "44/44 [==============================] - 0s 4ms/step - loss: 0.5193 - accuracy: 0.7777 - val_loss: 0.5346 - val_accuracy: 0.7655\n",
      "Epoch 6/70\n",
      "44/44 [==============================] - 0s 3ms/step - loss: 0.5081 - accuracy: 0.7806 - val_loss: 0.5276 - val_accuracy: 0.7705\n",
      "Epoch 7/70\n",
      "44/44 [==============================] - 0s 4ms/step - loss: 0.5001 - accuracy: 0.7820 - val_loss: 0.5251 - val_accuracy: 0.7722\n",
      "Epoch 8/70\n",
      "44/44 [==============================] - 0s 3ms/step - loss: 0.4961 - accuracy: 0.7849 - val_loss: 0.5222 - val_accuracy: 0.7755\n",
      "Epoch 9/70\n",
      "44/44 [==============================] - 0s 4ms/step - loss: 0.4923 - accuracy: 0.7849 - val_loss: 0.5203 - val_accuracy: 0.7772\n",
      "Epoch 10/70\n",
      "44/44 [==============================] - 0s 4ms/step - loss: 0.4887 - accuracy: 0.7863 - val_loss: 0.5190 - val_accuracy: 0.7806\n",
      "Epoch 11/70\n",
      "44/44 [==============================] - 0s 3ms/step - loss: 0.4855 - accuracy: 0.7906 - val_loss: 0.5157 - val_accuracy: 0.7772\n",
      "Epoch 12/70\n",
      "44/44 [==============================] - 0s 3ms/step - loss: 0.4825 - accuracy: 0.7878 - val_loss: 0.5149 - val_accuracy: 0.7806\n",
      "Epoch 13/70\n",
      "44/44 [==============================] - 0s 3ms/step - loss: 0.4810 - accuracy: 0.7906 - val_loss: 0.5137 - val_accuracy: 0.7772\n",
      "Epoch 14/70\n",
      "44/44 [==============================] - 0s 4ms/step - loss: 0.4770 - accuracy: 0.7885 - val_loss: 0.5121 - val_accuracy: 0.7839\n",
      "Epoch 15/70\n",
      "44/44 [==============================] - 0s 3ms/step - loss: 0.4753 - accuracy: 0.7906 - val_loss: 0.5104 - val_accuracy: 0.7839\n",
      "Epoch 16/70\n",
      "44/44 [==============================] - 0s 3ms/step - loss: 0.4722 - accuracy: 0.7964 - val_loss: 0.5083 - val_accuracy: 0.7856\n",
      "Epoch 17/70\n",
      "44/44 [==============================] - 0s 3ms/step - loss: 0.4697 - accuracy: 0.7950 - val_loss: 0.5074 - val_accuracy: 0.7906\n",
      "Epoch 18/70\n",
      "44/44 [==============================] - 0s 3ms/step - loss: 0.4681 - accuracy: 0.7993 - val_loss: 0.5059 - val_accuracy: 0.7906\n",
      "Epoch 19/70\n",
      "44/44 [==============================] - 0s 4ms/step - loss: 0.4658 - accuracy: 0.7964 - val_loss: 0.5056 - val_accuracy: 0.7940\n",
      "Epoch 20/70\n",
      "44/44 [==============================] - 0s 4ms/step - loss: 0.4638 - accuracy: 0.7993 - val_loss: 0.5048 - val_accuracy: 0.7906\n",
      "Epoch 21/70\n",
      "44/44 [==============================] - 0s 3ms/step - loss: 0.4624 - accuracy: 0.7993 - val_loss: 0.5038 - val_accuracy: 0.7940\n",
      "Epoch 22/70\n",
      "44/44 [==============================] - 0s 4ms/step - loss: 0.4611 - accuracy: 0.8029 - val_loss: 0.5027 - val_accuracy: 0.7940\n",
      "Epoch 23/70\n",
      "44/44 [==============================] - 0s 4ms/step - loss: 0.4592 - accuracy: 0.8079 - val_loss: 0.5036 - val_accuracy: 0.7906\n",
      "Epoch 24/70\n",
      "44/44 [==============================] - 0s 3ms/step - loss: 0.4582 - accuracy: 0.8029 - val_loss: 0.5021 - val_accuracy: 0.7956\n",
      "Epoch 25/70\n",
      "44/44 [==============================] - 0s 3ms/step - loss: 0.4573 - accuracy: 0.8043 - val_loss: 0.5021 - val_accuracy: 0.7889\n",
      "Epoch 26/70\n",
      "44/44 [==============================] - 0s 4ms/step - loss: 0.4561 - accuracy: 0.8079 - val_loss: 0.5005 - val_accuracy: 0.7956\n",
      "Epoch 27/70\n",
      "44/44 [==============================] - 0s 3ms/step - loss: 0.4548 - accuracy: 0.8094 - val_loss: 0.4994 - val_accuracy: 0.7956\n",
      "Epoch 28/70\n",
      "44/44 [==============================] - 0s 3ms/step - loss: 0.4532 - accuracy: 0.8144 - val_loss: 0.4994 - val_accuracy: 0.7973\n",
      "Epoch 29/70\n",
      "44/44 [==============================] - 0s 3ms/step - loss: 0.4528 - accuracy: 0.8086 - val_loss: 0.4992 - val_accuracy: 0.7973\n",
      "Epoch 30/70\n",
      "44/44 [==============================] - 0s 4ms/step - loss: 0.4519 - accuracy: 0.8137 - val_loss: 0.4988 - val_accuracy: 0.7923\n",
      "Epoch 31/70\n",
      "44/44 [==============================] - 0s 3ms/step - loss: 0.4507 - accuracy: 0.8129 - val_loss: 0.4996 - val_accuracy: 0.8023\n",
      "Epoch 32/70\n",
      "44/44 [==============================] - 0s 4ms/step - loss: 0.4507 - accuracy: 0.8158 - val_loss: 0.4983 - val_accuracy: 0.8040\n",
      "Epoch 33/70\n",
      "44/44 [==============================] - 0s 3ms/step - loss: 0.4494 - accuracy: 0.8158 - val_loss: 0.4974 - val_accuracy: 0.8007\n",
      "Epoch 34/70\n",
      "44/44 [==============================] - 0s 3ms/step - loss: 0.4488 - accuracy: 0.8151 - val_loss: 0.4978 - val_accuracy: 0.8023\n",
      "Epoch 35/70\n",
      "44/44 [==============================] - 0s 3ms/step - loss: 0.4481 - accuracy: 0.8158 - val_loss: 0.4975 - val_accuracy: 0.8040\n",
      "Epoch 36/70\n",
      "44/44 [==============================] - 0s 3ms/step - loss: 0.4467 - accuracy: 0.8144 - val_loss: 0.4979 - val_accuracy: 0.8023\n",
      "Epoch 37/70\n",
      "44/44 [==============================] - 0s 3ms/step - loss: 0.4453 - accuracy: 0.8137 - val_loss: 0.4970 - val_accuracy: 0.8040\n",
      "Epoch 38/70\n",
      "44/44 [==============================] - 0s 4ms/step - loss: 0.4447 - accuracy: 0.8101 - val_loss: 0.4963 - val_accuracy: 0.8040\n",
      "Epoch 39/70\n",
      "44/44 [==============================] - 0s 4ms/step - loss: 0.4440 - accuracy: 0.8144 - val_loss: 0.4973 - val_accuracy: 0.8074\n",
      "Epoch 40/70\n",
      "44/44 [==============================] - 0s 3ms/step - loss: 0.4437 - accuracy: 0.8108 - val_loss: 0.4970 - val_accuracy: 0.8023\n",
      "Epoch 41/70\n",
      "44/44 [==============================] - 0s 3ms/step - loss: 0.4439 - accuracy: 0.8151 - val_loss: 0.4959 - val_accuracy: 0.8074\n",
      "Epoch 42/70\n",
      "44/44 [==============================] - 0s 3ms/step - loss: 0.4410 - accuracy: 0.8187 - val_loss: 0.4959 - val_accuracy: 0.8057\n",
      "Epoch 43/70\n",
      "44/44 [==============================] - 0s 4ms/step - loss: 0.4406 - accuracy: 0.8180 - val_loss: 0.4958 - val_accuracy: 0.8057\n",
      "Epoch 44/70\n",
      "44/44 [==============================] - 0s 3ms/step - loss: 0.4403 - accuracy: 0.8180 - val_loss: 0.4958 - val_accuracy: 0.8023\n",
      "Epoch 45/70\n",
      "44/44 [==============================] - 0s 3ms/step - loss: 0.4397 - accuracy: 0.8137 - val_loss: 0.4963 - val_accuracy: 0.8090\n",
      "Epoch 46/70\n",
      "44/44 [==============================] - 0s 3ms/step - loss: 0.4390 - accuracy: 0.8165 - val_loss: 0.4971 - val_accuracy: 0.8007\n",
      "Epoch 47/70\n",
      "44/44 [==============================] - 0s 3ms/step - loss: 0.4382 - accuracy: 0.8165 - val_loss: 0.4968 - val_accuracy: 0.8074\n",
      "Epoch 48/70\n",
      "44/44 [==============================] - 0s 3ms/step - loss: 0.4384 - accuracy: 0.8187 - val_loss: 0.4958 - val_accuracy: 0.8057\n",
      "Epoch 49/70\n",
      "44/44 [==============================] - 0s 3ms/step - loss: 0.4378 - accuracy: 0.8158 - val_loss: 0.4952 - val_accuracy: 0.8057\n",
      "Epoch 50/70\n",
      "44/44 [==============================] - 0s 3ms/step - loss: 0.4371 - accuracy: 0.8173 - val_loss: 0.4957 - val_accuracy: 0.8040\n",
      "Epoch 51/70\n",
      "44/44 [==============================] - 0s 3ms/step - loss: 0.4361 - accuracy: 0.8180 - val_loss: 0.4957 - val_accuracy: 0.8040\n",
      "Epoch 52/70\n",
      "44/44 [==============================] - 0s 4ms/step - loss: 0.4363 - accuracy: 0.8180 - val_loss: 0.4951 - val_accuracy: 0.8107\n",
      "Epoch 53/70\n",
      "44/44 [==============================] - 0s 3ms/step - loss: 0.4357 - accuracy: 0.8180 - val_loss: 0.4951 - val_accuracy: 0.8040\n",
      "Epoch 54/70\n",
      "44/44 [==============================] - 0s 3ms/step - loss: 0.4353 - accuracy: 0.8194 - val_loss: 0.4958 - val_accuracy: 0.8074\n",
      "Epoch 55/70\n",
      "44/44 [==============================] - 0s 3ms/step - loss: 0.4347 - accuracy: 0.8173 - val_loss: 0.4956 - val_accuracy: 0.8023\n",
      "Epoch 56/70\n",
      "44/44 [==============================] - 0s 3ms/step - loss: 0.4339 - accuracy: 0.8180 - val_loss: 0.4948 - val_accuracy: 0.8040\n",
      "Epoch 57/70\n",
      "44/44 [==============================] - 0s 3ms/step - loss: 0.4329 - accuracy: 0.8158 - val_loss: 0.4949 - val_accuracy: 0.8107\n",
      "Epoch 58/70\n",
      "44/44 [==============================] - 0s 4ms/step - loss: 0.4330 - accuracy: 0.8158 - val_loss: 0.4964 - val_accuracy: 0.8074\n",
      "Epoch 59/70\n",
      "44/44 [==============================] - 0s 5ms/step - loss: 0.4326 - accuracy: 0.8173 - val_loss: 0.4951 - val_accuracy: 0.8040\n",
      "Epoch 60/70\n",
      "44/44 [==============================] - 0s 6ms/step - loss: 0.4318 - accuracy: 0.8173 - val_loss: 0.4947 - val_accuracy: 0.8157\n",
      "Epoch 61/70\n",
      "44/44 [==============================] - 0s 6ms/step - loss: 0.4312 - accuracy: 0.8173 - val_loss: 0.4945 - val_accuracy: 0.8090\n",
      "Epoch 62/70\n",
      "44/44 [==============================] - 0s 6ms/step - loss: 0.4325 - accuracy: 0.8187 - val_loss: 0.4955 - val_accuracy: 0.8023\n",
      "Epoch 63/70\n",
      "44/44 [==============================] - 0s 5ms/step - loss: 0.4311 - accuracy: 0.8180 - val_loss: 0.4955 - val_accuracy: 0.8141\n",
      "Epoch 64/70\n",
      "44/44 [==============================] - 1s 17ms/step - loss: 0.4310 - accuracy: 0.8223 - val_loss: 0.4948 - val_accuracy: 0.8141\n",
      "Epoch 65/70\n",
      "44/44 [==============================] - 1s 15ms/step - loss: 0.4309 - accuracy: 0.8158 - val_loss: 0.4951 - val_accuracy: 0.8057\n",
      "Epoch 66/70\n",
      "44/44 [==============================] - 0s 8ms/step - loss: 0.4289 - accuracy: 0.8216 - val_loss: 0.4949 - val_accuracy: 0.8157\n"
     ]
    }
   ],
   "source": [
    "#Applying Artificial neural network\n",
    "model = keras.models.Sequential()\n",
    "model.add(keras.layers.Dense(10, activation='relu'))\n",
    "model.add(keras.layers.Dense(32, activation='relu'))\n",
    "model.add(keras.layers.Dense(1, activation='sigmoid'))\n",
    "\n",
    "model.compile(optimizer='adam', loss='binary_crossentropy', metrics='accuracy')\n",
    "\n",
    "stop_early = keras.callbacks.EarlyStopping(monitor='val_loss', patience=5)\n",
    "ArtificialNeuralNetwork=model.fit(X_train, Y_train, validation_data=(X_val, Y_val), epochs=70, callbacks=[stop_early])"
   ]
  },
  {
   "cell_type": "markdown",
   "id": "cbe7b8d1",
   "metadata": {
    "id": "cbe7b8d1"
   },
   "source": [
    "### Visualising the training duration of artificial neural network"
   ]
  },
  {
   "cell_type": "code",
   "execution_count": 62,
   "id": "5077209a",
   "metadata": {
    "colab": {
     "base_uri": "https://localhost:8080/",
     "height": 282
    },
    "executionInfo": {
     "elapsed": 3469,
     "status": "ok",
     "timestamp": 1660043548372,
     "user": {
      "displayName": "Anmol Varshney",
      "userId": "09973869633986508713"
     },
     "user_tz": -330
    },
    "id": "5077209a",
    "outputId": "498a9bd3-10fe-4986-8839-6f9d4b6ecae7"
   },
   "outputs": [
    {
     "data": {
      "text/plain": [
       "<matplotlib.axes._subplots.AxesSubplot at 0x7ffafa569390>"
      ]
     },
     "execution_count": 62,
     "metadata": {},
     "output_type": "execute_result"
    },
    {
     "data": {
      "image/png": "[encoded data removed]",
      "text/plain": [
       "<Figure size 432x288 with 1 Axes>"
      ]
     },
     "metadata": {
      "needs_background": "light"
     },
     "output_type": "display_data"
    }
   ],
   "source": [
    "pd.DataFrame(ArtificialNeuralNetwork.history).plot()"
   ]
  },
  {
   "cell_type": "code",
   "execution_count": 63,
   "id": "32b240be",
   "metadata": {
    "colab": {
     "base_uri": "https://localhost:8080/",
     "height": 296
    },
    "executionInfo": {
     "elapsed": 629,
     "status": "ok",
     "timestamp": 1660043553690,
     "user": {
      "displayName": "Anmol Varshney",
      "userId": "09973869633986508713"
     },
     "user_tz": -330
    },
    "id": "32b240be",
    "outputId": "72741642-8151-4377-aea7-7d18921c0761"
   },
   "outputs": [
    {
     "data": {
      "text/plain": [
       "Text(0, 0.5, 'accuracy')"
      ]
     },
     "execution_count": 63,
     "metadata": {},
     "output_type": "execute_result"
    },
    {
     "data": {
      "image/png": "[encoded data removed]",
      "text/plain": [
       "<Figure size 432x288 with 1 Axes>"
      ]
     },
     "metadata": {
      "needs_background": "light"
     },
     "output_type": "display_data"
    }
   ],
   "source": [
    "import matplotlib.pyplot as plt\n",
    "\n",
    "#accuracy\n",
    "plt.plot(ArtificialNeuralNetwork.history['accuracy'], c='r', label='Training Accuracy')\n",
    "plt.plot(ArtificialNeuralNetwork.history['val_accuracy'], c='g', label='Validation Accuracy')\n",
    "plt.legend()\n",
    "plt.xlabel('epochs')\n",
    "plt.ylabel('accuracy')"
   ]
  },
  {
   "cell_type": "code",
   "execution_count": 65,
   "id": "qQNN7Z5oaAZl",
   "metadata": {
    "colab": {
     "base_uri": "https://localhost:8080/",
     "height": 296
    },
    "executionInfo": {
     "elapsed": 536,
     "status": "ok",
     "timestamp": 1660043572201,
     "user": {
      "displayName": "Anmol Varshney",
      "userId": "09973869633986508713"
     },
     "user_tz": -330
    },
    "id": "qQNN7Z5oaAZl",
    "outputId": "f91c047f-941d-44e3-8906-6c4ca01f7e2e"
   },
   "outputs": [
    {
     "data": {
      "text/plain": [
       "Text(0, 0.5, 'loss')"
      ]
     },
     "execution_count": 65,
     "metadata": {},
     "output_type": "execute_result"
    },
    {
     "data": {
      "image/png": "[encoded data removed]",
      "text/plain": [
       "<Figure size 432x288 with 1 Axes>"
      ]
     },
     "metadata": {
      "needs_background": "light"
     },
     "output_type": "display_data"
    }
   ],
   "source": [
    "#loss\n",
    "plt.plot(ArtificialNeuralNetwork.history['loss'], c='b', label='Training Loss')\n",
    "plt.plot(ArtificialNeuralNetwork.history['val_loss'], c='orange', label='Validation Loss')\n",
    "plt.legend()\n",
    "plt.xlabel('epochs')\n",
    "plt.ylabel('loss')"
   ]
  },
  {
   "cell_type": "code",
   "execution_count": 66,
   "id": "d8f3340f",
   "metadata": {
    "colab": {
     "base_uri": "https://localhost:8080/"
    },
    "executionInfo": {
     "elapsed": 496,
     "status": "ok",
     "timestamp": 1660043578498,
     "user": {
      "displayName": "Anmol Varshney",
      "userId": "09973869633986508713"
     },
     "user_tz": -330
    },
    "id": "d8f3340f",
    "outputId": "e44ebef7-108c-44b1-c9fd-c443f8d00e8a"
   },
   "outputs": [
    {
     "name": "stdout",
     "output_type": "stream",
     "text": [
      "19/19 [==============================] - 0s 1ms/step - loss: 0.4949 - accuracy: 0.8157\n"
     ]
    },
    {
     "data": {
      "text/plain": [
       "0.8157454133033752"
      ]
     },
     "execution_count": 66,
     "metadata": {},
     "output_type": "execute_result"
    }
   ],
   "source": [
    "acc_ann = model.evaluate(X_val, Y_val)[1]\n",
    "acc_ann"
   ]
  },
  {
   "cell_type": "code",
   "execution_count": 67,
   "id": "h8oODEUKcyR6",
   "metadata": {
    "executionInfo": {
     "elapsed": 482,
     "status": "ok",
     "timestamp": 1660043596429,
     "user": {
      "displayName": "Anmol Varshney",
      "userId": "09973869633986508713"
     },
     "user_tz": -330
    },
    "id": "h8oODEUKcyR6"
   },
   "outputs": [],
   "source": [
    "pred = []\n",
    "for i in model.predict(X_val):\n",
    "  if i > 0.5:\n",
    "    pred.append(1)\n",
    "  else:\n",
    "    pred.append(0)"
   ]
  },
  {
   "cell_type": "code",
   "execution_count": 68,
   "id": "68fNiIBPaWQR",
   "metadata": {
    "colab": {
     "base_uri": "https://localhost:8080/"
    },
    "executionInfo": {
     "elapsed": 10,
     "status": "ok",
     "timestamp": 1660043598429,
     "user": {
      "displayName": "Anmol Varshney",
      "userId": "09973869633986508713"
     },
     "user_tz": -330
    },
    "id": "68fNiIBPaWQR",
    "outputId": "d0c2fcd1-9f08-4f83-9999-eaca2019e133"
   },
   "outputs": [
    {
     "name": "stdout",
     "output_type": "stream",
     "text": [
      "------------Classification report--------------- \n",
      "              precision    recall  f1-score   support\n",
      "\n",
      "           0       0.80      0.95      0.87       385\n",
      "           1       0.87      0.57      0.69       212\n",
      "\n",
      "    accuracy                           0.82       597\n",
      "   macro avg       0.83      0.76      0.78       597\n",
      "weighted avg       0.82      0.82      0.80       597\n",
      "\n",
      "f1-score:  0.6857142857142856\n"
     ]
    }
   ],
   "source": [
    "print('------------Classification report--------------- ')\n",
    "print(classification_report(Y_val, pred))\n",
    "acc_ann = (accuracy_score(Y_val, pred))\n",
    "f1_ann = (f1_score(Y_val, pred))\n",
    "print(\"f1-score: \", f1_ann)"
   ]
  },
  {
   "cell_type": "code",
   "execution_count": 69,
   "id": "n2-AQmoVdZbu",
   "metadata": {
    "colab": {
     "base_uri": "https://localhost:8080/"
    },
    "executionInfo": {
     "elapsed": 14,
     "status": "ok",
     "timestamp": 1660043603015,
     "user": {
      "displayName": "Anmol Varshney",
      "userId": "09973869633986508713"
     },
     "user_tz": -330
    },
    "id": "n2-AQmoVdZbu",
    "outputId": "1cc319de-9b1c-403d-9bad-bd2329f14fb7"
   },
   "outputs": [
    {
     "name": "stdout",
     "output_type": "stream",
     "text": [
      "[[367  18]\n",
      " [ 92 120]]\n"
     ]
    }
   ],
   "source": [
    "from sklearn.metrics import confusion_matrix\n",
    "print(confusion_matrix(Y_val, pred))"
   ]
  },
  {
   "cell_type": "markdown",
   "id": "-NVdNoJ4aiJY",
   "metadata": {
    "id": "-NVdNoJ4aiJY"
   },
   "source": [
    "### Comparison of Performance"
   ]
  },
  {
   "cell_type": "code",
   "execution_count": 70,
   "id": "b555KTj6akyG",
   "metadata": {
    "colab": {
     "base_uri": "https://localhost:8080/",
     "height": 400
    },
    "executionInfo": {
     "elapsed": 858,
     "status": "ok",
     "timestamp": 1660043607807,
     "user": {
      "displayName": "Anmol Varshney",
      "userId": "09973869633986508713"
     },
     "user_tz": -330
    },
    "id": "b555KTj6akyG",
    "outputId": "926331db-4635-47cc-b656-12d7832d4869"
   },
   "outputs": [
    {
     "data": {
      "image/png": "[encoded data removed]",
      "text/plain": [
       "<Figure size 432x288 with 1 Axes>"
      ]
     },
     "metadata": {
      "needs_background": "light"
     },
     "output_type": "display_data"
    },
    {
     "name": "stdout",
     "output_type": "stream",
     "text": [
      "\n",
      "Accuracy Scores: \n",
      "--------------------------\n",
      "KNN :  0.7738693467336684\n",
      "Random Forest :  0.7956448911222781\n",
      "Decisin Tree :  0.7236180904522613\n",
      "ANN :  0.8157453936348409\n"
     ]
    }
   ],
   "source": [
    "sns.barplot(['KNN', 'Random Forest', 'Decisin Tree', 'ANN'],\n",
    "        [acc_knn, acc_rf, acc_dt, acc_ann], palette = 'coolwarm')\n",
    "plt.xlabel('models')\n",
    "plt.ylabel('accuracy')\n",
    "plt.show()\n",
    "\n",
    "print(\"\\nAccuracy Scores: \\n--------------------------\")\n",
    "for model_, acc_model in zip(['KNN', 'Random Forest', 'Decisin Tree', 'ANN'], [acc_knn, acc_rf, acc_dt, acc_ann]):\n",
    "  print(model_, \": \", acc_model)"
   ]
  },
  {
   "cell_type": "code",
   "execution_count": 71,
   "id": "7PrMJI1ta9ot",
   "metadata": {
    "colab": {
     "base_uri": "https://localhost:8080/",
     "height": 400
    },
    "executionInfo": {
     "elapsed": 570,
     "status": "ok",
     "timestamp": 1660043619198,
     "user": {
      "displayName": "Anmol Varshney",
      "userId": "09973869633986508713"
     },
     "user_tz": -330
    },
    "id": "7PrMJI1ta9ot",
    "outputId": "cc4d2caa-b1e5-4639-8262-37d90fb81874"
   },
   "outputs": [
    {
     "data": {
      "image/png": "[encoded data removed]",
      "text/plain": [
       "<Figure size 432x288 with 1 Axes>"
      ]
     },
     "metadata": {
      "needs_background": "light"
     },
     "output_type": "display_data"
    },
    {
     "name": "stdout",
     "output_type": "stream",
     "text": [
      "\n",
      "F1 Scores: \n",
      "--------------------------\n",
      "KNN :  0.7352549889135254\n",
      "Random Forest :  0.7618122596342516\n",
      "Decisin Tree :  0.7033634170799794\n",
      "ANN :  0.6857142857142856\n"
     ]
    }
   ],
   "source": [
    "sns.barplot(['KNN', 'Random Forest', 'Decisin Tree', 'ANN'],\n",
    "        [f1_knn, f1_rf, f1_dt, f1_ann], palette = 'coolwarm')\n",
    "plt.xlabel('models')\n",
    "plt.ylabel('F1 score')\n",
    "plt.show()\n",
    "\n",
    "print(\"\\nF1 Scores: \\n--------------------------\")\n",
    "for model_, f1_model in zip(['KNN', 'Random Forest', 'Decisin Tree', 'ANN'], [f1_knn, f1_rf, f1_dt, f1_ann]):\n",
    "  print(model_, \": \", f1_model)"
   ]
  },
  {
   "cell_type": "markdown",
   "id": "Kw-54tZJeHR3",
   "metadata": {
    "id": "Kw-54tZJeHR3"
   },
   "source": [
    "#### Performance comparison of tuned models"
   ]
  },
  {
   "cell_type": "code",
   "execution_count": 72,
   "id": "2A7KOTCTd3dF",
   "metadata": {
    "colab": {
     "base_uri": "https://localhost:8080/",
     "height": 383
    },
    "executionInfo": {
     "elapsed": 572,
     "status": "ok",
     "timestamp": 1660043660879,
     "user": {
      "displayName": "Anmol Varshney",
      "userId": "09973869633986508713"
     },
     "user_tz": -330
    },
    "id": "2A7KOTCTd3dF",
    "outputId": "9e460172-cdd3-40fa-e699-91e367376c82"
   },
   "outputs": [
    {
     "data": {
      "image/png": "[encoded data removed]",
      "text/plain": [
       "<Figure size 432x288 with 1 Axes>"
      ]
     },
     "metadata": {
      "needs_background": "light"
     },
     "output_type": "display_data"
    },
    {
     "name": "stdout",
     "output_type": "stream",
     "text": [
      "\n",
      "Tuned Accuracy Scores: \n",
      "--------------------------\n",
      "KNN :  0.7738693467336684\n",
      "Random Forest :  0.7956448911222781\n",
      "Decisin Tree :  0.7236180904522613\n"
     ]
    }
   ],
   "source": [
    "sns.barplot(['KNN', 'Random Forest', 'Decisin Tree'],\n",
    "        [acc_knn_tuned, acc_rf_tuned, acc_dt_tuned], palette = 'coolwarm')\n",
    "plt.xlabel('Tuned models')\n",
    "plt.ylabel('accuracy')\n",
    "plt.show()\n",
    "\n",
    "print(\"\\nTuned Accuracy Scores: \\n--------------------------\")\n",
    "for model_, acc_model in zip(['KNN', 'Random Forest', 'Decisin Tree'], [acc_knn, acc_rf, acc_dt]):\n",
    "  print(model_, \": \", acc_model)"
   ]
  },
  {
   "cell_type": "code",
   "execution_count": 73,
   "id": "Uevfm0JpeX_l",
   "metadata": {
    "colab": {
     "base_uri": "https://localhost:8080/",
     "height": 383
    },
    "executionInfo": {
     "elapsed": 546,
     "status": "ok",
     "timestamp": 1660043665234,
     "user": {
      "displayName": "Anmol Varshney",
      "userId": "09973869633986508713"
     },
     "user_tz": -330
    },
    "id": "Uevfm0JpeX_l",
    "outputId": "6efababb-3b34-4cb2-a61c-57c8dd8f002e"
   },
   "outputs": [
    {
     "data": {
      "image/png": "[encoded data removed]",
      "text/plain": [
       "<Figure size 432x288 with 1 Axes>"
      ]
     },
     "metadata": {
      "needs_background": "light"
     },
     "output_type": "display_data"
    },
    {
     "name": "stdout",
     "output_type": "stream",
     "text": [
      "\n",
      "Tuned F1-Scores: \n",
      "--------------------------\n",
      "KNN :  0.7352549889135254\n",
      "Random Forest :  0.7618122596342516\n",
      "Decisin Tree :  0.7033634170799794\n"
     ]
    }
   ],
   "source": [
    "sns.barplot(['KNN', 'Random Forest', 'Decisin Tree'],\n",
    "        [f1_knn_tuned, f1_rf_tuned, f1_dt_tuned], palette = 'coolwarm')\n",
    "plt.xlabel('Tuned models')\n",
    "plt.ylabel('F1-Score')\n",
    "plt.show()\n",
    "\n",
    "print(\"\\nTuned F1-Scores: \\n--------------------------\")\n",
    "for model_, f1_model in zip(['KNN', 'Random Forest', 'Decisin Tree'], [f1_knn, f1_rf, f1_dt]):\n",
    "  print(model_, \": \", f1_model)"
   ]
  },
  {
   "cell_type": "code",
   "execution_count": 58,
   "id": "jk7UsXIzeoYk",
   "metadata": {
    "executionInfo": {
     "elapsed": 74,
     "status": "ok",
     "timestamp": 1660041177385,
     "user": {
      "displayName": "Anmol Varshney",
      "userId": "09973869633986508713"
     },
     "user_tz": -330
    },
    "id": "jk7UsXIzeoYk"
   },
   "outputs": [],
   "source": []
  }
 ],
 "metadata": {
  "colab": {
   "collapsed_sections": [],
   "name": "Basic ML - Project.ipynb",
   "provenance": [],
   "toc_visible": true
  },
  "kernelspec": {
   "display_name": "Python 3 (ipykernel)",
   "language": "python",
   "name": "python3"
  },
  "language_info": {
   "codemirror_mode": {
    "name": "ipython",
    "version": 3
   },
   "file_extension": ".py",
   "mimetype": "text/x-python",
   "name": "python",
   "nbconvert_exporter": "python",
   "pygments_lexer": "ipython3",
   "version": "3.9.7"
  }
 },
 "nbformat": 4,
 "nbformat_minor": 5
}
